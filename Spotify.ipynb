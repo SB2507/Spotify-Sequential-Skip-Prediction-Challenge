{
  "nbformat": 4,
  "nbformat_minor": 0,
  "metadata": {
    "colab": {
      "name": "Spotify_Skip_Prediction.ipynb",
      "provenance": [],
      "collapsed_sections": [
        "tzmmdCnlzTqS",
        "raKpB08czTqT"
      ]
    },
    "kernelspec": {
      "display_name": "Python 3",
      "language": "python",
      "name": "python3"
    },
    "language_info": {
      "codemirror_mode": {
        "name": "ipython",
        "version": 3
      },
      "file_extension": ".py",
      "mimetype": "text/x-python",
      "name": "python",
      "nbconvert_exporter": "python",
      "pygments_lexer": "ipython3",
      "version": "3.8.3"
    }
  },
  "cells": [
    {
      "cell_type": "markdown",
      "metadata": {
        "id": "jzEWkEB4e_AK"
      },
      "source": [
        "#Spotify Skip Prediction "
      ]
    },
    {
      "cell_type": "code",
      "metadata": {
        "colab": {
          "base_uri": "https://localhost:8080/"
        },
        "id": "sYwKwmqKzZ4c",
        "outputId": "41aa5eba-1b05-48fc-8560-31b364fe617f"
      },
      "source": [
        "from google.colab import drive\n",
        "drive.mount('/content/drive')"
      ],
      "execution_count": 55,
      "outputs": [
        {
          "output_type": "stream",
          "text": [
            "Drive already mounted at /content/drive; to attempt to forcibly remount, call drive.mount(\"/content/drive\", force_remount=True).\n"
          ],
          "name": "stdout"
        }
      ]
    },
    {
      "cell_type": "code",
      "metadata": {
        "id": "2rg3NeZQCKQS"
      },
      "source": [
        "# importing essential libraries and modules \n",
        "import numpy as np\n",
        "import pandas as pd\n",
        "import matplotlib.pyplot as plt\n",
        "%matplotlib inline\n",
        "import seaborn as sns\n",
        " \n",
        "from imblearn.over_sampling import SMOTE\n",
        " \n",
        "from sklearn.model_selection import  train_test_split\n",
        " \n",
        "from sklearn.preprocessing import StandardScaler\n",
        "from sklearn.linear_model import LogisticRegressionCV\n",
        "from sklearn.ensemble import RandomForestClassifier\n",
        "import xgboost as xgb\n",
        "from lightgbm import LGBMClassifier"
      ],
      "execution_count": 59,
      "outputs": []
    },
    {
      "cell_type": "markdown",
      "metadata": {
        "id": "xcWH7icIzTqJ"
      },
      "source": [
        "## Analysing Training Set :"
      ]
    },
    {
      "cell_type": "code",
      "metadata": {
        "colab": {
          "base_uri": "https://localhost:8080/"
        },
        "id": "eYOM9j4uCYIF",
        "outputId": "d8ac40e1-77f4-437f-9852-c195eccdc2ef"
      },
      "source": [
        "# load training set \n",
        "train = pd.read_csv(\"/content/drive/MyDrive/Spotify/data/training_set/log_mini.csv\")\n",
        "train.shape"
      ],
      "execution_count": 58,
      "outputs": [
        {
          "output_type": "execute_result",
          "data": {
            "text/plain": [
              "(167880, 21)"
            ]
          },
          "metadata": {
            "tags": []
          },
          "execution_count": 58
        }
      ]
    },
    {
      "cell_type": "markdown",
      "metadata": {
        "id": "gIneyCKRzTqL"
      },
      "source": [
        "- It has 167880 rows and 21 attributes "
      ]
    },
    {
      "cell_type": "code",
      "metadata": {
        "colab": {
          "base_uri": "https://localhost:8080/",
          "height": 479
        },
        "id": "OamigDZLCxOu",
        "outputId": "f390f531-04f4-436f-d016-b6cf967d3c49"
      },
      "source": [
        "train.head()"
      ],
      "execution_count": 60,
      "outputs": [
        {
          "output_type": "execute_result",
          "data": {
            "text/html": [
              "<div>\n",
              "<style scoped>\n",
              "    .dataframe tbody tr th:only-of-type {\n",
              "        vertical-align: middle;\n",
              "    }\n",
              "\n",
              "    .dataframe tbody tr th {\n",
              "        vertical-align: top;\n",
              "    }\n",
              "\n",
              "    .dataframe thead th {\n",
              "        text-align: right;\n",
              "    }\n",
              "</style>\n",
              "<table border=\"1\" class=\"dataframe\">\n",
              "  <thead>\n",
              "    <tr style=\"text-align: right;\">\n",
              "      <th></th>\n",
              "      <th>session_id</th>\n",
              "      <th>session_position</th>\n",
              "      <th>session_length</th>\n",
              "      <th>track_id_clean</th>\n",
              "      <th>skip_1</th>\n",
              "      <th>skip_2</th>\n",
              "      <th>skip_3</th>\n",
              "      <th>not_skipped</th>\n",
              "      <th>context_switch</th>\n",
              "      <th>no_pause_before_play</th>\n",
              "      <th>short_pause_before_play</th>\n",
              "      <th>long_pause_before_play</th>\n",
              "      <th>hist_user_behavior_n_seekfwd</th>\n",
              "      <th>hist_user_behavior_n_seekback</th>\n",
              "      <th>hist_user_behavior_is_shuffle</th>\n",
              "      <th>hour_of_day</th>\n",
              "      <th>date</th>\n",
              "      <th>premium</th>\n",
              "      <th>context_type</th>\n",
              "      <th>hist_user_behavior_reason_start</th>\n",
              "      <th>hist_user_behavior_reason_end</th>\n",
              "    </tr>\n",
              "  </thead>\n",
              "  <tbody>\n",
              "    <tr>\n",
              "      <th>0</th>\n",
              "      <td>0_00006f66-33e5-4de7-a324-2d18e439fc1e</td>\n",
              "      <td>1</td>\n",
              "      <td>20</td>\n",
              "      <td>t_0479f24c-27d2-46d6-a00c-7ec928f2b539</td>\n",
              "      <td>False</td>\n",
              "      <td>False</td>\n",
              "      <td>False</td>\n",
              "      <td>True</td>\n",
              "      <td>0</td>\n",
              "      <td>0</td>\n",
              "      <td>0</td>\n",
              "      <td>0</td>\n",
              "      <td>0</td>\n",
              "      <td>0</td>\n",
              "      <td>True</td>\n",
              "      <td>16</td>\n",
              "      <td>2018-07-15</td>\n",
              "      <td>True</td>\n",
              "      <td>editorial_playlist</td>\n",
              "      <td>trackdone</td>\n",
              "      <td>trackdone</td>\n",
              "    </tr>\n",
              "    <tr>\n",
              "      <th>1</th>\n",
              "      <td>0_00006f66-33e5-4de7-a324-2d18e439fc1e</td>\n",
              "      <td>2</td>\n",
              "      <td>20</td>\n",
              "      <td>t_9099cd7b-c238-47b7-9381-f23f2c1d1043</td>\n",
              "      <td>False</td>\n",
              "      <td>False</td>\n",
              "      <td>False</td>\n",
              "      <td>True</td>\n",
              "      <td>0</td>\n",
              "      <td>1</td>\n",
              "      <td>0</td>\n",
              "      <td>0</td>\n",
              "      <td>0</td>\n",
              "      <td>0</td>\n",
              "      <td>True</td>\n",
              "      <td>16</td>\n",
              "      <td>2018-07-15</td>\n",
              "      <td>True</td>\n",
              "      <td>editorial_playlist</td>\n",
              "      <td>trackdone</td>\n",
              "      <td>trackdone</td>\n",
              "    </tr>\n",
              "    <tr>\n",
              "      <th>2</th>\n",
              "      <td>0_00006f66-33e5-4de7-a324-2d18e439fc1e</td>\n",
              "      <td>3</td>\n",
              "      <td>20</td>\n",
              "      <td>t_fc5df5ba-5396-49a7-8b29-35d0d28249e0</td>\n",
              "      <td>False</td>\n",
              "      <td>False</td>\n",
              "      <td>False</td>\n",
              "      <td>True</td>\n",
              "      <td>0</td>\n",
              "      <td>1</td>\n",
              "      <td>0</td>\n",
              "      <td>0</td>\n",
              "      <td>0</td>\n",
              "      <td>0</td>\n",
              "      <td>True</td>\n",
              "      <td>16</td>\n",
              "      <td>2018-07-15</td>\n",
              "      <td>True</td>\n",
              "      <td>editorial_playlist</td>\n",
              "      <td>trackdone</td>\n",
              "      <td>trackdone</td>\n",
              "    </tr>\n",
              "    <tr>\n",
              "      <th>3</th>\n",
              "      <td>0_00006f66-33e5-4de7-a324-2d18e439fc1e</td>\n",
              "      <td>4</td>\n",
              "      <td>20</td>\n",
              "      <td>t_23cff8d6-d874-4b20-83dc-94e450e8aa20</td>\n",
              "      <td>False</td>\n",
              "      <td>False</td>\n",
              "      <td>False</td>\n",
              "      <td>True</td>\n",
              "      <td>0</td>\n",
              "      <td>1</td>\n",
              "      <td>0</td>\n",
              "      <td>0</td>\n",
              "      <td>0</td>\n",
              "      <td>0</td>\n",
              "      <td>True</td>\n",
              "      <td>16</td>\n",
              "      <td>2018-07-15</td>\n",
              "      <td>True</td>\n",
              "      <td>editorial_playlist</td>\n",
              "      <td>trackdone</td>\n",
              "      <td>trackdone</td>\n",
              "    </tr>\n",
              "    <tr>\n",
              "      <th>4</th>\n",
              "      <td>0_00006f66-33e5-4de7-a324-2d18e439fc1e</td>\n",
              "      <td>5</td>\n",
              "      <td>20</td>\n",
              "      <td>t_64f3743c-f624-46bb-a579-0f3f9a07a123</td>\n",
              "      <td>False</td>\n",
              "      <td>False</td>\n",
              "      <td>False</td>\n",
              "      <td>True</td>\n",
              "      <td>0</td>\n",
              "      <td>1</td>\n",
              "      <td>0</td>\n",
              "      <td>0</td>\n",
              "      <td>0</td>\n",
              "      <td>0</td>\n",
              "      <td>True</td>\n",
              "      <td>16</td>\n",
              "      <td>2018-07-15</td>\n",
              "      <td>True</td>\n",
              "      <td>editorial_playlist</td>\n",
              "      <td>trackdone</td>\n",
              "      <td>trackdone</td>\n",
              "    </tr>\n",
              "  </tbody>\n",
              "</table>\n",
              "</div>"
            ],
            "text/plain": [
              "                               session_id  ...  hist_user_behavior_reason_end\n",
              "0  0_00006f66-33e5-4de7-a324-2d18e439fc1e  ...                      trackdone\n",
              "1  0_00006f66-33e5-4de7-a324-2d18e439fc1e  ...                      trackdone\n",
              "2  0_00006f66-33e5-4de7-a324-2d18e439fc1e  ...                      trackdone\n",
              "3  0_00006f66-33e5-4de7-a324-2d18e439fc1e  ...                      trackdone\n",
              "4  0_00006f66-33e5-4de7-a324-2d18e439fc1e  ...                      trackdone\n",
              "\n",
              "[5 rows x 21 columns]"
            ]
          },
          "metadata": {
            "tags": []
          },
          "execution_count": 60
        }
      ]
    },
    {
      "cell_type": "code",
      "metadata": {
        "colab": {
          "base_uri": "https://localhost:8080/"
        },
        "id": "q9FEmz95GsQ8",
        "outputId": "72acac32-4028-41fd-de8b-b6753b50dee1"
      },
      "source": [
        "# Information of training set\n",
        "train.info()"
      ],
      "execution_count": 61,
      "outputs": [
        {
          "output_type": "stream",
          "text": [
            "<class 'pandas.core.frame.DataFrame'>\n",
            "RangeIndex: 167880 entries, 0 to 167879\n",
            "Data columns (total 21 columns):\n",
            " #   Column                           Non-Null Count   Dtype \n",
            "---  ------                           --------------   ----- \n",
            " 0   session_id                       167880 non-null  object\n",
            " 1   session_position                 167880 non-null  int64 \n",
            " 2   session_length                   167880 non-null  int64 \n",
            " 3   track_id_clean                   167880 non-null  object\n",
            " 4   skip_1                           167880 non-null  bool  \n",
            " 5   skip_2                           167880 non-null  bool  \n",
            " 6   skip_3                           167880 non-null  bool  \n",
            " 7   not_skipped                      167880 non-null  bool  \n",
            " 8   context_switch                   167880 non-null  int64 \n",
            " 9   no_pause_before_play             167880 non-null  int64 \n",
            " 10  short_pause_before_play          167880 non-null  int64 \n",
            " 11  long_pause_before_play           167880 non-null  int64 \n",
            " 12  hist_user_behavior_n_seekfwd     167880 non-null  int64 \n",
            " 13  hist_user_behavior_n_seekback    167880 non-null  int64 \n",
            " 14  hist_user_behavior_is_shuffle    167880 non-null  bool  \n",
            " 15  hour_of_day                      167880 non-null  int64 \n",
            " 16  date                             167880 non-null  object\n",
            " 17  premium                          167880 non-null  bool  \n",
            " 18  context_type                     167880 non-null  object\n",
            " 19  hist_user_behavior_reason_start  167880 non-null  object\n",
            " 20  hist_user_behavior_reason_end    167880 non-null  object\n",
            "dtypes: bool(6), int64(9), object(6)\n",
            "memory usage: 20.2+ MB\n"
          ],
          "name": "stdout"
        }
      ]
    },
    {
      "cell_type": "markdown",
      "metadata": {
        "id": "VsrMR_hczTqM"
      },
      "source": [
        " \n",
        "- As from the data we can see, skip_1, skip_2 and some more coulmns are in  boolean(True or False) but it is counting as object so in pre-processing step we weill change the datatype \n",
        "- There are many null values "
      ]
    },
    {
      "cell_type": "markdown",
      "metadata": {
        "id": "4JmCDGsuzTqN"
      },
      "source": [
        "### Statistical summary "
      ]
    },
    {
      "cell_type": "code",
      "metadata": {
        "colab": {
          "base_uri": "https://localhost:8080/",
          "height": 297
        },
        "id": "s6UeBjK2F-if",
        "outputId": "6e6a4a8e-7958-4d0a-d773-b1635b0f073d"
      },
      "source": [
        "train.describe()"
      ],
      "execution_count": 62,
      "outputs": [
        {
          "output_type": "execute_result",
          "data": {
            "text/html": [
              "<div>\n",
              "<style scoped>\n",
              "    .dataframe tbody tr th:only-of-type {\n",
              "        vertical-align: middle;\n",
              "    }\n",
              "\n",
              "    .dataframe tbody tr th {\n",
              "        vertical-align: top;\n",
              "    }\n",
              "\n",
              "    .dataframe thead th {\n",
              "        text-align: right;\n",
              "    }\n",
              "</style>\n",
              "<table border=\"1\" class=\"dataframe\">\n",
              "  <thead>\n",
              "    <tr style=\"text-align: right;\">\n",
              "      <th></th>\n",
              "      <th>session_position</th>\n",
              "      <th>session_length</th>\n",
              "      <th>context_switch</th>\n",
              "      <th>no_pause_before_play</th>\n",
              "      <th>short_pause_before_play</th>\n",
              "      <th>long_pause_before_play</th>\n",
              "      <th>hist_user_behavior_n_seekfwd</th>\n",
              "      <th>hist_user_behavior_n_seekback</th>\n",
              "      <th>hour_of_day</th>\n",
              "    </tr>\n",
              "  </thead>\n",
              "  <tbody>\n",
              "    <tr>\n",
              "      <th>count</th>\n",
              "      <td>167880.000000</td>\n",
              "      <td>167880.000000</td>\n",
              "      <td>167880.000000</td>\n",
              "      <td>167880.000000</td>\n",
              "      <td>167880.000000</td>\n",
              "      <td>167880.000000</td>\n",
              "      <td>167880.000000</td>\n",
              "      <td>167880.000000</td>\n",
              "      <td>167880.000000</td>\n",
              "    </tr>\n",
              "    <tr>\n",
              "      <th>mean</th>\n",
              "      <td>9.325911</td>\n",
              "      <td>17.651823</td>\n",
              "      <td>0.040904</td>\n",
              "      <td>0.767602</td>\n",
              "      <td>0.146635</td>\n",
              "      <td>0.172832</td>\n",
              "      <td>0.038909</td>\n",
              "      <td>0.046259</td>\n",
              "      <td>14.193084</td>\n",
              "    </tr>\n",
              "    <tr>\n",
              "      <th>std</th>\n",
              "      <td>5.457638</td>\n",
              "      <td>3.422025</td>\n",
              "      <td>0.198069</td>\n",
              "      <td>0.422363</td>\n",
              "      <td>0.353742</td>\n",
              "      <td>0.378103</td>\n",
              "      <td>0.367295</td>\n",
              "      <td>0.606558</td>\n",
              "      <td>5.996243</td>\n",
              "    </tr>\n",
              "    <tr>\n",
              "      <th>min</th>\n",
              "      <td>1.000000</td>\n",
              "      <td>10.000000</td>\n",
              "      <td>0.000000</td>\n",
              "      <td>0.000000</td>\n",
              "      <td>0.000000</td>\n",
              "      <td>0.000000</td>\n",
              "      <td>0.000000</td>\n",
              "      <td>0.000000</td>\n",
              "      <td>0.000000</td>\n",
              "    </tr>\n",
              "    <tr>\n",
              "      <th>25%</th>\n",
              "      <td>5.000000</td>\n",
              "      <td>15.000000</td>\n",
              "      <td>0.000000</td>\n",
              "      <td>1.000000</td>\n",
              "      <td>0.000000</td>\n",
              "      <td>0.000000</td>\n",
              "      <td>0.000000</td>\n",
              "      <td>0.000000</td>\n",
              "      <td>11.000000</td>\n",
              "    </tr>\n",
              "    <tr>\n",
              "      <th>50%</th>\n",
              "      <td>9.000000</td>\n",
              "      <td>20.000000</td>\n",
              "      <td>0.000000</td>\n",
              "      <td>1.000000</td>\n",
              "      <td>0.000000</td>\n",
              "      <td>0.000000</td>\n",
              "      <td>0.000000</td>\n",
              "      <td>0.000000</td>\n",
              "      <td>15.000000</td>\n",
              "    </tr>\n",
              "    <tr>\n",
              "      <th>75%</th>\n",
              "      <td>14.000000</td>\n",
              "      <td>20.000000</td>\n",
              "      <td>0.000000</td>\n",
              "      <td>1.000000</td>\n",
              "      <td>0.000000</td>\n",
              "      <td>0.000000</td>\n",
              "      <td>0.000000</td>\n",
              "      <td>0.000000</td>\n",
              "      <td>19.000000</td>\n",
              "    </tr>\n",
              "    <tr>\n",
              "      <th>max</th>\n",
              "      <td>20.000000</td>\n",
              "      <td>20.000000</td>\n",
              "      <td>1.000000</td>\n",
              "      <td>1.000000</td>\n",
              "      <td>1.000000</td>\n",
              "      <td>1.000000</td>\n",
              "      <td>60.000000</td>\n",
              "      <td>151.000000</td>\n",
              "      <td>23.000000</td>\n",
              "    </tr>\n",
              "  </tbody>\n",
              "</table>\n",
              "</div>"
            ],
            "text/plain": [
              "       session_position  ...    hour_of_day\n",
              "count     167880.000000  ...  167880.000000\n",
              "mean           9.325911  ...      14.193084\n",
              "std            5.457638  ...       5.996243\n",
              "min            1.000000  ...       0.000000\n",
              "25%            5.000000  ...      11.000000\n",
              "50%            9.000000  ...      15.000000\n",
              "75%           14.000000  ...      19.000000\n",
              "max           20.000000  ...      23.000000\n",
              "\n",
              "[8 rows x 9 columns]"
            ]
          },
          "metadata": {
            "tags": []
          },
          "execution_count": 62
        }
      ]
    },
    {
      "cell_type": "code",
      "metadata": {
        "colab": {
          "base_uri": "https://localhost:8080/",
          "height": 173
        },
        "id": "Umcs3eNvKHgJ",
        "outputId": "fe9edb1d-235b-46fb-a368-b7cb099f4090"
      },
      "source": [
        "# summary for objects columns\n",
        "train.describe(include=['O'])"
      ],
      "execution_count": 63,
      "outputs": [
        {
          "output_type": "execute_result",
          "data": {
            "text/html": [
              "<div>\n",
              "<style scoped>\n",
              "    .dataframe tbody tr th:only-of-type {\n",
              "        vertical-align: middle;\n",
              "    }\n",
              "\n",
              "    .dataframe tbody tr th {\n",
              "        vertical-align: top;\n",
              "    }\n",
              "\n",
              "    .dataframe thead th {\n",
              "        text-align: right;\n",
              "    }\n",
              "</style>\n",
              "<table border=\"1\" class=\"dataframe\">\n",
              "  <thead>\n",
              "    <tr style=\"text-align: right;\">\n",
              "      <th></th>\n",
              "      <th>session_id</th>\n",
              "      <th>track_id_clean</th>\n",
              "      <th>date</th>\n",
              "      <th>context_type</th>\n",
              "      <th>hist_user_behavior_reason_start</th>\n",
              "      <th>hist_user_behavior_reason_end</th>\n",
              "    </tr>\n",
              "  </thead>\n",
              "  <tbody>\n",
              "    <tr>\n",
              "      <th>count</th>\n",
              "      <td>167880</td>\n",
              "      <td>167880</td>\n",
              "      <td>167880</td>\n",
              "      <td>167880</td>\n",
              "      <td>167880</td>\n",
              "      <td>167880</td>\n",
              "    </tr>\n",
              "    <tr>\n",
              "      <th>unique</th>\n",
              "      <td>10000</td>\n",
              "      <td>50704</td>\n",
              "      <td>18</td>\n",
              "      <td>6</td>\n",
              "      <td>9</td>\n",
              "      <td>7</td>\n",
              "    </tr>\n",
              "    <tr>\n",
              "      <th>top</th>\n",
              "      <td>0_022c0fa1-0e35-4ccc-a722-549b2c4d1197</td>\n",
              "      <td>t_bacf06d3-9185-4183-84ea-ff0db51475ce</td>\n",
              "      <td>2018-07-15</td>\n",
              "      <td>user_collection</td>\n",
              "      <td>fwdbtn</td>\n",
              "      <td>fwdbtn</td>\n",
              "    </tr>\n",
              "    <tr>\n",
              "      <th>freq</th>\n",
              "      <td>20</td>\n",
              "      <td>1427</td>\n",
              "      <td>119639</td>\n",
              "      <td>67430</td>\n",
              "      <td>79912</td>\n",
              "      <td>81389</td>\n",
              "    </tr>\n",
              "  </tbody>\n",
              "</table>\n",
              "</div>"
            ],
            "text/plain": [
              "                                    session_id  ... hist_user_behavior_reason_end\n",
              "count                                   167880  ...                        167880\n",
              "unique                                   10000  ...                             7\n",
              "top     0_022c0fa1-0e35-4ccc-a722-549b2c4d1197  ...                        fwdbtn\n",
              "freq                                        20  ...                         81389\n",
              "\n",
              "[4 rows x 6 columns]"
            ]
          },
          "metadata": {
            "tags": []
          },
          "execution_count": 63
        }
      ]
    },
    {
      "cell_type": "markdown",
      "metadata": {
        "id": "krnFrDFlzTqO"
      },
      "source": [
        "### Data-preprocessing and EDA"
      ]
    },
    {
      "cell_type": "code",
      "metadata": {
        "colab": {
          "base_uri": "https://localhost:8080/"
        },
        "id": "CQZ-XX62HSAx",
        "outputId": "b6bbc8a7-9dce-4181-bffb-95e6171023bf"
      },
      "source": [
        "# droping duplicates and null values : \n",
        "train.drop_duplicates(inplace=True)\n",
        "train.dropna(inplace=True)\n",
        "train.shape"
      ],
      "execution_count": 64,
      "outputs": [
        {
          "output_type": "execute_result",
          "data": {
            "text/plain": [
              "(167880, 21)"
            ]
          },
          "metadata": {
            "tags": []
          },
          "execution_count": 64
        }
      ]
    },
    {
      "cell_type": "code",
      "metadata": {
        "id": "0jyTVZT5F-uV"
      },
      "source": [
        "# changing the type of columns \n",
        "for colname in ['skip_1','skip_2','skip_3','not_skipped','hist_user_behavior_is_shuffle','premium']:\n",
        "    train[colname] = train[colname].astype(int, copy=False)"
      ],
      "execution_count": 65,
      "outputs": []
    },
    {
      "cell_type": "markdown",
      "metadata": {
        "id": "lJQbtZiXzTqP"
      },
      "source": [
        "### Creating target column"
      ]
    },
    {
      "cell_type": "code",
      "metadata": {
        "id": "ypPTUrBxF_B3"
      },
      "source": [
        "train['skip'] = train['not_skipped'].replace({ 0 : 1, 1 : 0 })"
      ],
      "execution_count": 66,
      "outputs": []
    },
    {
      "cell_type": "code",
      "metadata": {
        "colab": {
          "base_uri": "https://localhost:8080/"
        },
        "id": "0eZxEsBcF_Ey",
        "outputId": "31eeb6d4-35db-434a-a837-6892da30345e"
      },
      "source": [
        "train['skip'].value_counts()"
      ],
      "execution_count": 67,
      "outputs": [
        {
          "output_type": "execute_result",
          "data": {
            "text/plain": [
              "1    111996\n",
              "0     55884\n",
              "Name: skip, dtype: int64"
            ]
          },
          "metadata": {
            "tags": []
          },
          "execution_count": 67
        }
      ]
    },
    {
      "cell_type": "markdown",
      "metadata": {
        "id": "dVZ3oisLzTqQ"
      },
      "source": [
        "### Analysing categorical data"
      ]
    },
    {
      "cell_type": "code",
      "metadata": {
        "colab": {
          "base_uri": "https://localhost:8080/",
          "height": 1000
        },
        "id": "xaradiUiJ_H9",
        "outputId": "8ce90e00-4ca6-4929-c427-b590351ed46c"
      },
      "source": [
        "col = ['skip_1','skip_2','skip_3',\n",
        "       'not_skipped','context_switch','no_pause_before_play',\n",
        "       'short_pause_before_play','long_pause_before_play','hist_user_behavior_is_shuffle',\n",
        "       'premium','context_type','hist_user_behavior_reason_start',\n",
        "       'hist_user_behavior_reason_end']\n",
        "\n",
        "plt.figure(figsize=(20,25))\n",
        "n = 1\n",
        "for colname in col:\n",
        "    plt.subplot(5,3,n)\n",
        "    train[colname].value_counts().plot(kind='bar')\n",
        "    plt.xlabel(colname)\n",
        "    n +=1"
      ],
      "execution_count": 69,
      "outputs": [
        {
          "output_type": "display_data",
          "data": {
            "image/png": "[encoded data removed]",
            "text/plain": [
              "<Figure size 1440x1800 with 13 Axes>"
            ]
          },
          "metadata": {
            "tags": [],
            "needs_background": "light"
          }
        }
      ]
    },
    {
      "cell_type": "code",
      "metadata": {
        "colab": {
          "base_uri": "https://localhost:8080/"
        },
        "id": "pcHDIfxDaJ-U",
        "outputId": "f4484aa5-26e9-48df-dcda-d2bb990d43f8"
      },
      "source": [
        "# creating copy of the train data \n",
        "df = train.copy()\n",
        "df.shape"
      ],
      "execution_count": 70,
      "outputs": [
        {
          "output_type": "execute_result",
          "data": {
            "text/plain": [
              "(167880, 22)"
            ]
          },
          "metadata": {
            "tags": []
          },
          "execution_count": 70
        }
      ]
    },
    {
      "cell_type": "code",
      "metadata": {
        "id": "i52m1VvvPnrf"
      },
      "source": [
        "# df.date = df.date.apply(pd.to_datetime)\n",
        "# df.info()"
      ],
      "execution_count": 71,
      "outputs": []
    },
    {
      "cell_type": "markdown",
      "metadata": {
        "id": "tzmmdCnlzTqS"
      },
      "source": [
        "### Dropping Irrelevent columns"
      ]
    },
    {
      "cell_type": "code",
      "metadata": {
        "colab": {
          "base_uri": "https://localhost:8080/"
        },
        "id": "ae_2psEtmC-K",
        "outputId": "bbbc07b5-8d7e-4684-882b-9a1d99186f2f"
      },
      "source": [
        "df = df.drop(columns=['skip_1','skip_2','skip_3','not_skipped','date'])\n",
        "df.shape"
      ],
      "execution_count": 72,
      "outputs": [
        {
          "output_type": "execute_result",
          "data": {
            "text/plain": [
              "(167880, 17)"
            ]
          },
          "metadata": {
            "tags": []
          },
          "execution_count": 72
        }
      ]
    },
    {
      "cell_type": "code",
      "metadata": {
        "colab": {
          "base_uri": "https://localhost:8080/",
          "height": 479
        },
        "id": "L6LaVjvEmMdi",
        "outputId": "418a2ada-06e0-4cb7-993d-396032cb9822"
      },
      "source": [
        "df.head()"
      ],
      "execution_count": 73,
      "outputs": [
        {
          "output_type": "execute_result",
          "data": {
            "text/html": [
              "<div>\n",
              "<style scoped>\n",
              "    .dataframe tbody tr th:only-of-type {\n",
              "        vertical-align: middle;\n",
              "    }\n",
              "\n",
              "    .dataframe tbody tr th {\n",
              "        vertical-align: top;\n",
              "    }\n",
              "\n",
              "    .dataframe thead th {\n",
              "        text-align: right;\n",
              "    }\n",
              "</style>\n",
              "<table border=\"1\" class=\"dataframe\">\n",
              "  <thead>\n",
              "    <tr style=\"text-align: right;\">\n",
              "      <th></th>\n",
              "      <th>session_id</th>\n",
              "      <th>session_position</th>\n",
              "      <th>session_length</th>\n",
              "      <th>track_id_clean</th>\n",
              "      <th>context_switch</th>\n",
              "      <th>no_pause_before_play</th>\n",
              "      <th>short_pause_before_play</th>\n",
              "      <th>long_pause_before_play</th>\n",
              "      <th>hist_user_behavior_n_seekfwd</th>\n",
              "      <th>hist_user_behavior_n_seekback</th>\n",
              "      <th>hist_user_behavior_is_shuffle</th>\n",
              "      <th>hour_of_day</th>\n",
              "      <th>premium</th>\n",
              "      <th>context_type</th>\n",
              "      <th>hist_user_behavior_reason_start</th>\n",
              "      <th>hist_user_behavior_reason_end</th>\n",
              "      <th>skip</th>\n",
              "    </tr>\n",
              "  </thead>\n",
              "  <tbody>\n",
              "    <tr>\n",
              "      <th>0</th>\n",
              "      <td>0_00006f66-33e5-4de7-a324-2d18e439fc1e</td>\n",
              "      <td>1</td>\n",
              "      <td>20</td>\n",
              "      <td>t_0479f24c-27d2-46d6-a00c-7ec928f2b539</td>\n",
              "      <td>0</td>\n",
              "      <td>0</td>\n",
              "      <td>0</td>\n",
              "      <td>0</td>\n",
              "      <td>0</td>\n",
              "      <td>0</td>\n",
              "      <td>1</td>\n",
              "      <td>16</td>\n",
              "      <td>1</td>\n",
              "      <td>editorial_playlist</td>\n",
              "      <td>trackdone</td>\n",
              "      <td>trackdone</td>\n",
              "      <td>0</td>\n",
              "    </tr>\n",
              "    <tr>\n",
              "      <th>1</th>\n",
              "      <td>0_00006f66-33e5-4de7-a324-2d18e439fc1e</td>\n",
              "      <td>2</td>\n",
              "      <td>20</td>\n",
              "      <td>t_9099cd7b-c238-47b7-9381-f23f2c1d1043</td>\n",
              "      <td>0</td>\n",
              "      <td>1</td>\n",
              "      <td>0</td>\n",
              "      <td>0</td>\n",
              "      <td>0</td>\n",
              "      <td>0</td>\n",
              "      <td>1</td>\n",
              "      <td>16</td>\n",
              "      <td>1</td>\n",
              "      <td>editorial_playlist</td>\n",
              "      <td>trackdone</td>\n",
              "      <td>trackdone</td>\n",
              "      <td>0</td>\n",
              "    </tr>\n",
              "    <tr>\n",
              "      <th>2</th>\n",
              "      <td>0_00006f66-33e5-4de7-a324-2d18e439fc1e</td>\n",
              "      <td>3</td>\n",
              "      <td>20</td>\n",
              "      <td>t_fc5df5ba-5396-49a7-8b29-35d0d28249e0</td>\n",
              "      <td>0</td>\n",
              "      <td>1</td>\n",
              "      <td>0</td>\n",
              "      <td>0</td>\n",
              "      <td>0</td>\n",
              "      <td>0</td>\n",
              "      <td>1</td>\n",
              "      <td>16</td>\n",
              "      <td>1</td>\n",
              "      <td>editorial_playlist</td>\n",
              "      <td>trackdone</td>\n",
              "      <td>trackdone</td>\n",
              "      <td>0</td>\n",
              "    </tr>\n",
              "    <tr>\n",
              "      <th>3</th>\n",
              "      <td>0_00006f66-33e5-4de7-a324-2d18e439fc1e</td>\n",
              "      <td>4</td>\n",
              "      <td>20</td>\n",
              "      <td>t_23cff8d6-d874-4b20-83dc-94e450e8aa20</td>\n",
              "      <td>0</td>\n",
              "      <td>1</td>\n",
              "      <td>0</td>\n",
              "      <td>0</td>\n",
              "      <td>0</td>\n",
              "      <td>0</td>\n",
              "      <td>1</td>\n",
              "      <td>16</td>\n",
              "      <td>1</td>\n",
              "      <td>editorial_playlist</td>\n",
              "      <td>trackdone</td>\n",
              "      <td>trackdone</td>\n",
              "      <td>0</td>\n",
              "    </tr>\n",
              "    <tr>\n",
              "      <th>4</th>\n",
              "      <td>0_00006f66-33e5-4de7-a324-2d18e439fc1e</td>\n",
              "      <td>5</td>\n",
              "      <td>20</td>\n",
              "      <td>t_64f3743c-f624-46bb-a579-0f3f9a07a123</td>\n",
              "      <td>0</td>\n",
              "      <td>1</td>\n",
              "      <td>0</td>\n",
              "      <td>0</td>\n",
              "      <td>0</td>\n",
              "      <td>0</td>\n",
              "      <td>1</td>\n",
              "      <td>16</td>\n",
              "      <td>1</td>\n",
              "      <td>editorial_playlist</td>\n",
              "      <td>trackdone</td>\n",
              "      <td>trackdone</td>\n",
              "      <td>0</td>\n",
              "    </tr>\n",
              "  </tbody>\n",
              "</table>\n",
              "</div>"
            ],
            "text/plain": [
              "                               session_id  ...  skip\n",
              "0  0_00006f66-33e5-4de7-a324-2d18e439fc1e  ...     0\n",
              "1  0_00006f66-33e5-4de7-a324-2d18e439fc1e  ...     0\n",
              "2  0_00006f66-33e5-4de7-a324-2d18e439fc1e  ...     0\n",
              "3  0_00006f66-33e5-4de7-a324-2d18e439fc1e  ...     0\n",
              "4  0_00006f66-33e5-4de7-a324-2d18e439fc1e  ...     0\n",
              "\n",
              "[5 rows x 17 columns]"
            ]
          },
          "metadata": {
            "tags": []
          },
          "execution_count": 73
        }
      ]
    },
    {
      "cell_type": "markdown",
      "metadata": {
        "id": "raKpB08czTqT"
      },
      "source": [
        "### One-hot Encoding on Train data"
      ]
    },
    {
      "cell_type": "code",
      "metadata": {
        "colab": {
          "base_uri": "https://localhost:8080/"
        },
        "id": "pv05o372J_jb",
        "outputId": "59f68b94-4f70-43b2-d572-a24370ab7711"
      },
      "source": [
        "df1 = df.drop(['session_id', 'track_id_clean'], axis=1)\n",
        "df1.shape"
      ],
      "execution_count": 74,
      "outputs": [
        {
          "output_type": "execute_result",
          "data": {
            "text/plain": [
              "(167880, 15)"
            ]
          },
          "metadata": {
            "tags": []
          },
          "execution_count": 74
        }
      ]
    },
    {
      "cell_type": "code",
      "metadata": {
        "colab": {
          "base_uri": "https://localhost:8080/"
        },
        "id": "H4Zgh6TsZ-B9",
        "outputId": "fc2079b3-6e01-448b-e023-693a6f597bb2"
      },
      "source": [
        "dummy_train = pd.get_dummies(df1)\n",
        "dummy_train.shape"
      ],
      "execution_count": 75,
      "outputs": [
        {
          "output_type": "execute_result",
          "data": {
            "text/plain": [
              "(167880, 34)"
            ]
          },
          "metadata": {
            "tags": []
          },
          "execution_count": 75
        }
      ]
    },
    {
      "cell_type": "code",
      "metadata": {
        "colab": {
          "base_uri": "https://localhost:8080/",
          "height": 224
        },
        "id": "MkneoAjMZ-QL",
        "outputId": "ca85c200-97d8-40be-fc76-19ff554196a1"
      },
      "source": [
        "dummy_train.head()"
      ],
      "execution_count": 76,
      "outputs": [
        {
          "output_type": "execute_result",
          "data": {
            "text/html": [
              "<div>\n",
              "<style scoped>\n",
              "    .dataframe tbody tr th:only-of-type {\n",
              "        vertical-align: middle;\n",
              "    }\n",
              "\n",
              "    .dataframe tbody tr th {\n",
              "        vertical-align: top;\n",
              "    }\n",
              "\n",
              "    .dataframe thead th {\n",
              "        text-align: right;\n",
              "    }\n",
              "</style>\n",
              "<table border=\"1\" class=\"dataframe\">\n",
              "  <thead>\n",
              "    <tr style=\"text-align: right;\">\n",
              "      <th></th>\n",
              "      <th>session_position</th>\n",
              "      <th>session_length</th>\n",
              "      <th>context_switch</th>\n",
              "      <th>no_pause_before_play</th>\n",
              "      <th>short_pause_before_play</th>\n",
              "      <th>long_pause_before_play</th>\n",
              "      <th>hist_user_behavior_n_seekfwd</th>\n",
              "      <th>hist_user_behavior_n_seekback</th>\n",
              "      <th>hist_user_behavior_is_shuffle</th>\n",
              "      <th>hour_of_day</th>\n",
              "      <th>premium</th>\n",
              "      <th>skip</th>\n",
              "      <th>context_type_catalog</th>\n",
              "      <th>context_type_charts</th>\n",
              "      <th>context_type_editorial_playlist</th>\n",
              "      <th>context_type_personalized_playlist</th>\n",
              "      <th>context_type_radio</th>\n",
              "      <th>context_type_user_collection</th>\n",
              "      <th>hist_user_behavior_reason_start_appload</th>\n",
              "      <th>hist_user_behavior_reason_start_backbtn</th>\n",
              "      <th>hist_user_behavior_reason_start_clickrow</th>\n",
              "      <th>hist_user_behavior_reason_start_endplay</th>\n",
              "      <th>hist_user_behavior_reason_start_fwdbtn</th>\n",
              "      <th>hist_user_behavior_reason_start_playbtn</th>\n",
              "      <th>hist_user_behavior_reason_start_remote</th>\n",
              "      <th>hist_user_behavior_reason_start_trackdone</th>\n",
              "      <th>hist_user_behavior_reason_start_trackerror</th>\n",
              "      <th>hist_user_behavior_reason_end_backbtn</th>\n",
              "      <th>hist_user_behavior_reason_end_clickrow</th>\n",
              "      <th>hist_user_behavior_reason_end_endplay</th>\n",
              "      <th>hist_user_behavior_reason_end_fwdbtn</th>\n",
              "      <th>hist_user_behavior_reason_end_logout</th>\n",
              "      <th>hist_user_behavior_reason_end_remote</th>\n",
              "      <th>hist_user_behavior_reason_end_trackdone</th>\n",
              "    </tr>\n",
              "  </thead>\n",
              "  <tbody>\n",
              "    <tr>\n",
              "      <th>0</th>\n",
              "      <td>1</td>\n",
              "      <td>20</td>\n",
              "      <td>0</td>\n",
              "      <td>0</td>\n",
              "      <td>0</td>\n",
              "      <td>0</td>\n",
              "      <td>0</td>\n",
              "      <td>0</td>\n",
              "      <td>1</td>\n",
              "      <td>16</td>\n",
              "      <td>1</td>\n",
              "      <td>0</td>\n",
              "      <td>0</td>\n",
              "      <td>0</td>\n",
              "      <td>1</td>\n",
              "      <td>0</td>\n",
              "      <td>0</td>\n",
              "      <td>0</td>\n",
              "      <td>0</td>\n",
              "      <td>0</td>\n",
              "      <td>0</td>\n",
              "      <td>0</td>\n",
              "      <td>0</td>\n",
              "      <td>0</td>\n",
              "      <td>0</td>\n",
              "      <td>1</td>\n",
              "      <td>0</td>\n",
              "      <td>0</td>\n",
              "      <td>0</td>\n",
              "      <td>0</td>\n",
              "      <td>0</td>\n",
              "      <td>0</td>\n",
              "      <td>0</td>\n",
              "      <td>1</td>\n",
              "    </tr>\n",
              "    <tr>\n",
              "      <th>1</th>\n",
              "      <td>2</td>\n",
              "      <td>20</td>\n",
              "      <td>0</td>\n",
              "      <td>1</td>\n",
              "      <td>0</td>\n",
              "      <td>0</td>\n",
              "      <td>0</td>\n",
              "      <td>0</td>\n",
              "      <td>1</td>\n",
              "      <td>16</td>\n",
              "      <td>1</td>\n",
              "      <td>0</td>\n",
              "      <td>0</td>\n",
              "      <td>0</td>\n",
              "      <td>1</td>\n",
              "      <td>0</td>\n",
              "      <td>0</td>\n",
              "      <td>0</td>\n",
              "      <td>0</td>\n",
              "      <td>0</td>\n",
              "      <td>0</td>\n",
              "      <td>0</td>\n",
              "      <td>0</td>\n",
              "      <td>0</td>\n",
              "      <td>0</td>\n",
              "      <td>1</td>\n",
              "      <td>0</td>\n",
              "      <td>0</td>\n",
              "      <td>0</td>\n",
              "      <td>0</td>\n",
              "      <td>0</td>\n",
              "      <td>0</td>\n",
              "      <td>0</td>\n",
              "      <td>1</td>\n",
              "    </tr>\n",
              "    <tr>\n",
              "      <th>2</th>\n",
              "      <td>3</td>\n",
              "      <td>20</td>\n",
              "      <td>0</td>\n",
              "      <td>1</td>\n",
              "      <td>0</td>\n",
              "      <td>0</td>\n",
              "      <td>0</td>\n",
              "      <td>0</td>\n",
              "      <td>1</td>\n",
              "      <td>16</td>\n",
              "      <td>1</td>\n",
              "      <td>0</td>\n",
              "      <td>0</td>\n",
              "      <td>0</td>\n",
              "      <td>1</td>\n",
              "      <td>0</td>\n",
              "      <td>0</td>\n",
              "      <td>0</td>\n",
              "      <td>0</td>\n",
              "      <td>0</td>\n",
              "      <td>0</td>\n",
              "      <td>0</td>\n",
              "      <td>0</td>\n",
              "      <td>0</td>\n",
              "      <td>0</td>\n",
              "      <td>1</td>\n",
              "      <td>0</td>\n",
              "      <td>0</td>\n",
              "      <td>0</td>\n",
              "      <td>0</td>\n",
              "      <td>0</td>\n",
              "      <td>0</td>\n",
              "      <td>0</td>\n",
              "      <td>1</td>\n",
              "    </tr>\n",
              "    <tr>\n",
              "      <th>3</th>\n",
              "      <td>4</td>\n",
              "      <td>20</td>\n",
              "      <td>0</td>\n",
              "      <td>1</td>\n",
              "      <td>0</td>\n",
              "      <td>0</td>\n",
              "      <td>0</td>\n",
              "      <td>0</td>\n",
              "      <td>1</td>\n",
              "      <td>16</td>\n",
              "      <td>1</td>\n",
              "      <td>0</td>\n",
              "      <td>0</td>\n",
              "      <td>0</td>\n",
              "      <td>1</td>\n",
              "      <td>0</td>\n",
              "      <td>0</td>\n",
              "      <td>0</td>\n",
              "      <td>0</td>\n",
              "      <td>0</td>\n",
              "      <td>0</td>\n",
              "      <td>0</td>\n",
              "      <td>0</td>\n",
              "      <td>0</td>\n",
              "      <td>0</td>\n",
              "      <td>1</td>\n",
              "      <td>0</td>\n",
              "      <td>0</td>\n",
              "      <td>0</td>\n",
              "      <td>0</td>\n",
              "      <td>0</td>\n",
              "      <td>0</td>\n",
              "      <td>0</td>\n",
              "      <td>1</td>\n",
              "    </tr>\n",
              "    <tr>\n",
              "      <th>4</th>\n",
              "      <td>5</td>\n",
              "      <td>20</td>\n",
              "      <td>0</td>\n",
              "      <td>1</td>\n",
              "      <td>0</td>\n",
              "      <td>0</td>\n",
              "      <td>0</td>\n",
              "      <td>0</td>\n",
              "      <td>1</td>\n",
              "      <td>16</td>\n",
              "      <td>1</td>\n",
              "      <td>0</td>\n",
              "      <td>0</td>\n",
              "      <td>0</td>\n",
              "      <td>1</td>\n",
              "      <td>0</td>\n",
              "      <td>0</td>\n",
              "      <td>0</td>\n",
              "      <td>0</td>\n",
              "      <td>0</td>\n",
              "      <td>0</td>\n",
              "      <td>0</td>\n",
              "      <td>0</td>\n",
              "      <td>0</td>\n",
              "      <td>0</td>\n",
              "      <td>1</td>\n",
              "      <td>0</td>\n",
              "      <td>0</td>\n",
              "      <td>0</td>\n",
              "      <td>0</td>\n",
              "      <td>0</td>\n",
              "      <td>0</td>\n",
              "      <td>0</td>\n",
              "      <td>1</td>\n",
              "    </tr>\n",
              "  </tbody>\n",
              "</table>\n",
              "</div>"
            ],
            "text/plain": [
              "   session_position  ...  hist_user_behavior_reason_end_trackdone\n",
              "0                 1  ...                                        1\n",
              "1                 2  ...                                        1\n",
              "2                 3  ...                                        1\n",
              "3                 4  ...                                        1\n",
              "4                 5  ...                                        1\n",
              "\n",
              "[5 rows x 34 columns]"
            ]
          },
          "metadata": {
            "tags": []
          },
          "execution_count": 76
        }
      ]
    },
    {
      "cell_type": "code",
      "metadata": {
        "id": "KCu-oxmuZ-cf"
      },
      "source": [
        ""
      ],
      "execution_count": null,
      "outputs": []
    },
    {
      "cell_type": "markdown",
      "metadata": {
        "id": "YFu0dveBzTqU"
      },
      "source": [
        "## Analysing Track Features "
      ]
    },
    {
      "cell_type": "code",
      "metadata": {
        "colab": {
          "base_uri": "https://localhost:8080/",
          "height": 479
        },
        "id": "v7lxCvOTF_eO",
        "outputId": "607a688b-eb27-4c63-c559-1f940b8907bc"
      },
      "source": [
        "# there are two different files of track features so the aim is to merge both of them then analyse data: \n",
        "tf = pd.read_csv('/content/drive/MyDrive/Spotify/data/track_features/tf_mini.csv')\n",
        "tf.head()"
      ],
      "execution_count": 77,
      "outputs": [
        {
          "output_type": "execute_result",
          "data": {
            "text/html": [
              "<div>\n",
              "<style scoped>\n",
              "    .dataframe tbody tr th:only-of-type {\n",
              "        vertical-align: middle;\n",
              "    }\n",
              "\n",
              "    .dataframe tbody tr th {\n",
              "        vertical-align: top;\n",
              "    }\n",
              "\n",
              "    .dataframe thead th {\n",
              "        text-align: right;\n",
              "    }\n",
              "</style>\n",
              "<table border=\"1\" class=\"dataframe\">\n",
              "  <thead>\n",
              "    <tr style=\"text-align: right;\">\n",
              "      <th></th>\n",
              "      <th>track_id</th>\n",
              "      <th>duration</th>\n",
              "      <th>release_year</th>\n",
              "      <th>us_popularity_estimate</th>\n",
              "      <th>acousticness</th>\n",
              "      <th>beat_strength</th>\n",
              "      <th>bounciness</th>\n",
              "      <th>danceability</th>\n",
              "      <th>dyn_range_mean</th>\n",
              "      <th>energy</th>\n",
              "      <th>flatness</th>\n",
              "      <th>instrumentalness</th>\n",
              "      <th>key</th>\n",
              "      <th>liveness</th>\n",
              "      <th>loudness</th>\n",
              "      <th>mechanism</th>\n",
              "      <th>mode</th>\n",
              "      <th>organism</th>\n",
              "      <th>speechiness</th>\n",
              "      <th>tempo</th>\n",
              "      <th>time_signature</th>\n",
              "      <th>valence</th>\n",
              "      <th>acoustic_vector_0</th>\n",
              "      <th>acoustic_vector_1</th>\n",
              "      <th>acoustic_vector_2</th>\n",
              "      <th>acoustic_vector_3</th>\n",
              "      <th>acoustic_vector_4</th>\n",
              "      <th>acoustic_vector_5</th>\n",
              "      <th>acoustic_vector_6</th>\n",
              "      <th>acoustic_vector_7</th>\n",
              "    </tr>\n",
              "  </thead>\n",
              "  <tbody>\n",
              "    <tr>\n",
              "      <th>0</th>\n",
              "      <td>t_a540e552-16d4-42f8-a185-232bd650ea7d</td>\n",
              "      <td>109.706673</td>\n",
              "      <td>1950</td>\n",
              "      <td>99.975414</td>\n",
              "      <td>0.458040</td>\n",
              "      <td>0.519497</td>\n",
              "      <td>0.504949</td>\n",
              "      <td>0.399767</td>\n",
              "      <td>7.511880</td>\n",
              "      <td>0.817709</td>\n",
              "      <td>0.903753</td>\n",
              "      <td>3.254327e-06</td>\n",
              "      <td>0</td>\n",
              "      <td>0.132124</td>\n",
              "      <td>-11.238</td>\n",
              "      <td>0.386100</td>\n",
              "      <td>major</td>\n",
              "      <td>0.541606</td>\n",
              "      <td>0.079985</td>\n",
              "      <td>166.287003</td>\n",
              "      <td>4</td>\n",
              "      <td>0.935512</td>\n",
              "      <td>-0.033284</td>\n",
              "      <td>-0.411896</td>\n",
              "      <td>-0.028580</td>\n",
              "      <td>0.349438</td>\n",
              "      <td>0.832467</td>\n",
              "      <td>-0.213871</td>\n",
              "      <td>-0.299464</td>\n",
              "      <td>-0.675907</td>\n",
              "    </tr>\n",
              "    <tr>\n",
              "      <th>1</th>\n",
              "      <td>t_67965da0-132b-4b1e-8a69-0ef99b32287c</td>\n",
              "      <td>187.693329</td>\n",
              "      <td>1950</td>\n",
              "      <td>99.969430</td>\n",
              "      <td>0.916272</td>\n",
              "      <td>0.419223</td>\n",
              "      <td>0.545530</td>\n",
              "      <td>0.491235</td>\n",
              "      <td>9.098376</td>\n",
              "      <td>0.154258</td>\n",
              "      <td>1.037952</td>\n",
              "      <td>8.344854e-12</td>\n",
              "      <td>0</td>\n",
              "      <td>0.163281</td>\n",
              "      <td>-13.706</td>\n",
              "      <td>0.125000</td>\n",
              "      <td>major</td>\n",
              "      <td>0.895874</td>\n",
              "      <td>0.083877</td>\n",
              "      <td>95.261002</td>\n",
              "      <td>3</td>\n",
              "      <td>0.359675</td>\n",
              "      <td>0.145703</td>\n",
              "      <td>-0.850372</td>\n",
              "      <td>0.123860</td>\n",
              "      <td>0.746904</td>\n",
              "      <td>0.371803</td>\n",
              "      <td>-0.420558</td>\n",
              "      <td>-0.213120</td>\n",
              "      <td>-0.525795</td>\n",
              "    </tr>\n",
              "    <tr>\n",
              "      <th>2</th>\n",
              "      <td>t_0614ecd3-a7d5-40a1-816e-156d5872a467</td>\n",
              "      <td>160.839996</td>\n",
              "      <td>1951</td>\n",
              "      <td>99.602549</td>\n",
              "      <td>0.812884</td>\n",
              "      <td>0.425890</td>\n",
              "      <td>0.508280</td>\n",
              "      <td>0.491625</td>\n",
              "      <td>8.368670</td>\n",
              "      <td>0.358813</td>\n",
              "      <td>1.004268</td>\n",
              "      <td>2.927475e-10</td>\n",
              "      <td>0</td>\n",
              "      <td>0.090115</td>\n",
              "      <td>-10.522</td>\n",
              "      <td>0.200669</td>\n",
              "      <td>minor</td>\n",
              "      <td>0.806136</td>\n",
              "      <td>0.038777</td>\n",
              "      <td>105.185997</td>\n",
              "      <td>4</td>\n",
              "      <td>0.726769</td>\n",
              "      <td>0.021720</td>\n",
              "      <td>-0.743634</td>\n",
              "      <td>0.333247</td>\n",
              "      <td>0.568447</td>\n",
              "      <td>0.411094</td>\n",
              "      <td>-0.187749</td>\n",
              "      <td>-0.387599</td>\n",
              "      <td>-0.433496</td>\n",
              "    </tr>\n",
              "    <tr>\n",
              "      <th>3</th>\n",
              "      <td>t_070a63a0-744a-434e-9913-a97b02926a29</td>\n",
              "      <td>175.399994</td>\n",
              "      <td>1951</td>\n",
              "      <td>99.665018</td>\n",
              "      <td>0.396854</td>\n",
              "      <td>0.400934</td>\n",
              "      <td>0.359990</td>\n",
              "      <td>0.552227</td>\n",
              "      <td>5.967346</td>\n",
              "      <td>0.514585</td>\n",
              "      <td>0.975138</td>\n",
              "      <td>3.981341e-11</td>\n",
              "      <td>0</td>\n",
              "      <td>0.360924</td>\n",
              "      <td>-11.032</td>\n",
              "      <td>0.427152</td>\n",
              "      <td>major</td>\n",
              "      <td>0.492772</td>\n",
              "      <td>0.038337</td>\n",
              "      <td>119.441002</td>\n",
              "      <td>4</td>\n",
              "      <td>0.859075</td>\n",
              "      <td>0.039143</td>\n",
              "      <td>-0.267555</td>\n",
              "      <td>-0.051825</td>\n",
              "      <td>0.106173</td>\n",
              "      <td>0.614825</td>\n",
              "      <td>-0.111419</td>\n",
              "      <td>-0.265953</td>\n",
              "      <td>-0.542753</td>\n",
              "    </tr>\n",
              "    <tr>\n",
              "      <th>4</th>\n",
              "      <td>t_d6990e17-9c31-4b01-8559-47d9ce476df1</td>\n",
              "      <td>369.600006</td>\n",
              "      <td>1951</td>\n",
              "      <td>99.991764</td>\n",
              "      <td>0.728831</td>\n",
              "      <td>0.371328</td>\n",
              "      <td>0.335115</td>\n",
              "      <td>0.483044</td>\n",
              "      <td>5.802681</td>\n",
              "      <td>0.721442</td>\n",
              "      <td>0.976866</td>\n",
              "      <td>2.541884e-10</td>\n",
              "      <td>0</td>\n",
              "      <td>0.189162</td>\n",
              "      <td>-6.836</td>\n",
              "      <td>0.281250</td>\n",
              "      <td>major</td>\n",
              "      <td>0.723808</td>\n",
              "      <td>0.032043</td>\n",
              "      <td>95.261002</td>\n",
              "      <td>4</td>\n",
              "      <td>0.562343</td>\n",
              "      <td>0.131931</td>\n",
              "      <td>-0.292523</td>\n",
              "      <td>-0.174819</td>\n",
              "      <td>-0.034422</td>\n",
              "      <td>0.717229</td>\n",
              "      <td>-0.016239</td>\n",
              "      <td>-0.392694</td>\n",
              "      <td>-0.455496</td>\n",
              "    </tr>\n",
              "  </tbody>\n",
              "</table>\n",
              "</div>"
            ],
            "text/plain": [
              "                                 track_id  ...  acoustic_vector_7\n",
              "0  t_a540e552-16d4-42f8-a185-232bd650ea7d  ...          -0.675907\n",
              "1  t_67965da0-132b-4b1e-8a69-0ef99b32287c  ...          -0.525795\n",
              "2  t_0614ecd3-a7d5-40a1-816e-156d5872a467  ...          -0.433496\n",
              "3  t_070a63a0-744a-434e-9913-a97b02926a29  ...          -0.542753\n",
              "4  t_d6990e17-9c31-4b01-8559-47d9ce476df1  ...          -0.455496\n",
              "\n",
              "[5 rows x 30 columns]"
            ]
          },
          "metadata": {
            "tags": []
          },
          "execution_count": 77
        }
      ]
    },
    {
      "cell_type": "code",
      "metadata": {
        "colab": {
          "base_uri": "https://localhost:8080/",
          "height": 479
        },
        "id": "BMfwh5-oF_g4",
        "outputId": "df5f139c-0698-422b-d0d1-552348b4368b"
      },
      "source": [
        "tf2 = pd.read_csv('/content/drive/MyDrive/Spotify/data/track_features/tf_mini.csv')\n",
        "tf2.head()"
      ],
      "execution_count": 78,
      "outputs": [
        {
          "output_type": "execute_result",
          "data": {
            "text/html": [
              "<div>\n",
              "<style scoped>\n",
              "    .dataframe tbody tr th:only-of-type {\n",
              "        vertical-align: middle;\n",
              "    }\n",
              "\n",
              "    .dataframe tbody tr th {\n",
              "        vertical-align: top;\n",
              "    }\n",
              "\n",
              "    .dataframe thead th {\n",
              "        text-align: right;\n",
              "    }\n",
              "</style>\n",
              "<table border=\"1\" class=\"dataframe\">\n",
              "  <thead>\n",
              "    <tr style=\"text-align: right;\">\n",
              "      <th></th>\n",
              "      <th>track_id</th>\n",
              "      <th>duration</th>\n",
              "      <th>release_year</th>\n",
              "      <th>us_popularity_estimate</th>\n",
              "      <th>acousticness</th>\n",
              "      <th>beat_strength</th>\n",
              "      <th>bounciness</th>\n",
              "      <th>danceability</th>\n",
              "      <th>dyn_range_mean</th>\n",
              "      <th>energy</th>\n",
              "      <th>flatness</th>\n",
              "      <th>instrumentalness</th>\n",
              "      <th>key</th>\n",
              "      <th>liveness</th>\n",
              "      <th>loudness</th>\n",
              "      <th>mechanism</th>\n",
              "      <th>mode</th>\n",
              "      <th>organism</th>\n",
              "      <th>speechiness</th>\n",
              "      <th>tempo</th>\n",
              "      <th>time_signature</th>\n",
              "      <th>valence</th>\n",
              "      <th>acoustic_vector_0</th>\n",
              "      <th>acoustic_vector_1</th>\n",
              "      <th>acoustic_vector_2</th>\n",
              "      <th>acoustic_vector_3</th>\n",
              "      <th>acoustic_vector_4</th>\n",
              "      <th>acoustic_vector_5</th>\n",
              "      <th>acoustic_vector_6</th>\n",
              "      <th>acoustic_vector_7</th>\n",
              "    </tr>\n",
              "  </thead>\n",
              "  <tbody>\n",
              "    <tr>\n",
              "      <th>0</th>\n",
              "      <td>t_a540e552-16d4-42f8-a185-232bd650ea7d</td>\n",
              "      <td>109.706673</td>\n",
              "      <td>1950</td>\n",
              "      <td>99.975414</td>\n",
              "      <td>0.458040</td>\n",
              "      <td>0.519497</td>\n",
              "      <td>0.504949</td>\n",
              "      <td>0.399767</td>\n",
              "      <td>7.511880</td>\n",
              "      <td>0.817709</td>\n",
              "      <td>0.903753</td>\n",
              "      <td>3.254327e-06</td>\n",
              "      <td>0</td>\n",
              "      <td>0.132124</td>\n",
              "      <td>-11.238</td>\n",
              "      <td>0.386100</td>\n",
              "      <td>major</td>\n",
              "      <td>0.541606</td>\n",
              "      <td>0.079985</td>\n",
              "      <td>166.287003</td>\n",
              "      <td>4</td>\n",
              "      <td>0.935512</td>\n",
              "      <td>-0.033284</td>\n",
              "      <td>-0.411896</td>\n",
              "      <td>-0.028580</td>\n",
              "      <td>0.349438</td>\n",
              "      <td>0.832467</td>\n",
              "      <td>-0.213871</td>\n",
              "      <td>-0.299464</td>\n",
              "      <td>-0.675907</td>\n",
              "    </tr>\n",
              "    <tr>\n",
              "      <th>1</th>\n",
              "      <td>t_67965da0-132b-4b1e-8a69-0ef99b32287c</td>\n",
              "      <td>187.693329</td>\n",
              "      <td>1950</td>\n",
              "      <td>99.969430</td>\n",
              "      <td>0.916272</td>\n",
              "      <td>0.419223</td>\n",
              "      <td>0.545530</td>\n",
              "      <td>0.491235</td>\n",
              "      <td>9.098376</td>\n",
              "      <td>0.154258</td>\n",
              "      <td>1.037952</td>\n",
              "      <td>8.344854e-12</td>\n",
              "      <td>0</td>\n",
              "      <td>0.163281</td>\n",
              "      <td>-13.706</td>\n",
              "      <td>0.125000</td>\n",
              "      <td>major</td>\n",
              "      <td>0.895874</td>\n",
              "      <td>0.083877</td>\n",
              "      <td>95.261002</td>\n",
              "      <td>3</td>\n",
              "      <td>0.359675</td>\n",
              "      <td>0.145703</td>\n",
              "      <td>-0.850372</td>\n",
              "      <td>0.123860</td>\n",
              "      <td>0.746904</td>\n",
              "      <td>0.371803</td>\n",
              "      <td>-0.420558</td>\n",
              "      <td>-0.213120</td>\n",
              "      <td>-0.525795</td>\n",
              "    </tr>\n",
              "    <tr>\n",
              "      <th>2</th>\n",
              "      <td>t_0614ecd3-a7d5-40a1-816e-156d5872a467</td>\n",
              "      <td>160.839996</td>\n",
              "      <td>1951</td>\n",
              "      <td>99.602549</td>\n",
              "      <td>0.812884</td>\n",
              "      <td>0.425890</td>\n",
              "      <td>0.508280</td>\n",
              "      <td>0.491625</td>\n",
              "      <td>8.368670</td>\n",
              "      <td>0.358813</td>\n",
              "      <td>1.004268</td>\n",
              "      <td>2.927475e-10</td>\n",
              "      <td>0</td>\n",
              "      <td>0.090115</td>\n",
              "      <td>-10.522</td>\n",
              "      <td>0.200669</td>\n",
              "      <td>minor</td>\n",
              "      <td>0.806136</td>\n",
              "      <td>0.038777</td>\n",
              "      <td>105.185997</td>\n",
              "      <td>4</td>\n",
              "      <td>0.726769</td>\n",
              "      <td>0.021720</td>\n",
              "      <td>-0.743634</td>\n",
              "      <td>0.333247</td>\n",
              "      <td>0.568447</td>\n",
              "      <td>0.411094</td>\n",
              "      <td>-0.187749</td>\n",
              "      <td>-0.387599</td>\n",
              "      <td>-0.433496</td>\n",
              "    </tr>\n",
              "    <tr>\n",
              "      <th>3</th>\n",
              "      <td>t_070a63a0-744a-434e-9913-a97b02926a29</td>\n",
              "      <td>175.399994</td>\n",
              "      <td>1951</td>\n",
              "      <td>99.665018</td>\n",
              "      <td>0.396854</td>\n",
              "      <td>0.400934</td>\n",
              "      <td>0.359990</td>\n",
              "      <td>0.552227</td>\n",
              "      <td>5.967346</td>\n",
              "      <td>0.514585</td>\n",
              "      <td>0.975138</td>\n",
              "      <td>3.981341e-11</td>\n",
              "      <td>0</td>\n",
              "      <td>0.360924</td>\n",
              "      <td>-11.032</td>\n",
              "      <td>0.427152</td>\n",
              "      <td>major</td>\n",
              "      <td>0.492772</td>\n",
              "      <td>0.038337</td>\n",
              "      <td>119.441002</td>\n",
              "      <td>4</td>\n",
              "      <td>0.859075</td>\n",
              "      <td>0.039143</td>\n",
              "      <td>-0.267555</td>\n",
              "      <td>-0.051825</td>\n",
              "      <td>0.106173</td>\n",
              "      <td>0.614825</td>\n",
              "      <td>-0.111419</td>\n",
              "      <td>-0.265953</td>\n",
              "      <td>-0.542753</td>\n",
              "    </tr>\n",
              "    <tr>\n",
              "      <th>4</th>\n",
              "      <td>t_d6990e17-9c31-4b01-8559-47d9ce476df1</td>\n",
              "      <td>369.600006</td>\n",
              "      <td>1951</td>\n",
              "      <td>99.991764</td>\n",
              "      <td>0.728831</td>\n",
              "      <td>0.371328</td>\n",
              "      <td>0.335115</td>\n",
              "      <td>0.483044</td>\n",
              "      <td>5.802681</td>\n",
              "      <td>0.721442</td>\n",
              "      <td>0.976866</td>\n",
              "      <td>2.541884e-10</td>\n",
              "      <td>0</td>\n",
              "      <td>0.189162</td>\n",
              "      <td>-6.836</td>\n",
              "      <td>0.281250</td>\n",
              "      <td>major</td>\n",
              "      <td>0.723808</td>\n",
              "      <td>0.032043</td>\n",
              "      <td>95.261002</td>\n",
              "      <td>4</td>\n",
              "      <td>0.562343</td>\n",
              "      <td>0.131931</td>\n",
              "      <td>-0.292523</td>\n",
              "      <td>-0.174819</td>\n",
              "      <td>-0.034422</td>\n",
              "      <td>0.717229</td>\n",
              "      <td>-0.016239</td>\n",
              "      <td>-0.392694</td>\n",
              "      <td>-0.455496</td>\n",
              "    </tr>\n",
              "  </tbody>\n",
              "</table>\n",
              "</div>"
            ],
            "text/plain": [
              "                                 track_id  ...  acoustic_vector_7\n",
              "0  t_a540e552-16d4-42f8-a185-232bd650ea7d  ...          -0.675907\n",
              "1  t_67965da0-132b-4b1e-8a69-0ef99b32287c  ...          -0.525795\n",
              "2  t_0614ecd3-a7d5-40a1-816e-156d5872a467  ...          -0.433496\n",
              "3  t_070a63a0-744a-434e-9913-a97b02926a29  ...          -0.542753\n",
              "4  t_d6990e17-9c31-4b01-8559-47d9ce476df1  ...          -0.455496\n",
              "\n",
              "[5 rows x 30 columns]"
            ]
          },
          "metadata": {
            "tags": []
          },
          "execution_count": 78
        }
      ]
    },
    {
      "cell_type": "code",
      "metadata": {
        "colab": {
          "base_uri": "https://localhost:8080/"
        },
        "id": "tZvxKguhF_jl",
        "outputId": "0d161c03-accd-48d6-996d-213c421720ef"
      },
      "source": [
        "# joining two dataframes : \n",
        "track = pd.concat([tf, tf2])\n",
        "track.shape"
      ],
      "execution_count": 79,
      "outputs": [
        {
          "output_type": "execute_result",
          "data": {
            "text/plain": [
              "(101408, 30)"
            ]
          },
          "metadata": {
            "tags": []
          },
          "execution_count": 79
        }
      ]
    },
    {
      "cell_type": "code",
      "metadata": {
        "colab": {
          "base_uri": "https://localhost:8080/"
        },
        "id": "UdhcgwTGF_mY",
        "outputId": "391c0e86-8dff-484a-cc7b-d0c2464611bd"
      },
      "source": [
        "track.info()"
      ],
      "execution_count": 80,
      "outputs": [
        {
          "output_type": "stream",
          "text": [
            "<class 'pandas.core.frame.DataFrame'>\n",
            "Int64Index: 101408 entries, 0 to 50703\n",
            "Data columns (total 30 columns):\n",
            " #   Column                  Non-Null Count   Dtype  \n",
            "---  ------                  --------------   -----  \n",
            " 0   track_id                101408 non-null  object \n",
            " 1   duration                101408 non-null  float64\n",
            " 2   release_year            101408 non-null  int64  \n",
            " 3   us_popularity_estimate  101408 non-null  float64\n",
            " 4   acousticness            101408 non-null  float64\n",
            " 5   beat_strength           101408 non-null  float64\n",
            " 6   bounciness              101408 non-null  float64\n",
            " 7   danceability            101408 non-null  float64\n",
            " 8   dyn_range_mean          101408 non-null  float64\n",
            " 9   energy                  101408 non-null  float64\n",
            " 10  flatness                101408 non-null  float64\n",
            " 11  instrumentalness        101408 non-null  float64\n",
            " 12  key                     101408 non-null  int64  \n",
            " 13  liveness                101408 non-null  float64\n",
            " 14  loudness                101408 non-null  float64\n",
            " 15  mechanism               101408 non-null  float64\n",
            " 16  mode                    101408 non-null  object \n",
            " 17  organism                101408 non-null  float64\n",
            " 18  speechiness             101408 non-null  float64\n",
            " 19  tempo                   101408 non-null  float64\n",
            " 20  time_signature          101408 non-null  int64  \n",
            " 21  valence                 101408 non-null  float64\n",
            " 22  acoustic_vector_0       101408 non-null  float64\n",
            " 23  acoustic_vector_1       101408 non-null  float64\n",
            " 24  acoustic_vector_2       101408 non-null  float64\n",
            " 25  acoustic_vector_3       101408 non-null  float64\n",
            " 26  acoustic_vector_4       101408 non-null  float64\n",
            " 27  acoustic_vector_5       101408 non-null  float64\n",
            " 28  acoustic_vector_6       101408 non-null  float64\n",
            " 29  acoustic_vector_7       101408 non-null  float64\n",
            "dtypes: float64(25), int64(3), object(2)\n",
            "memory usage: 24.0+ MB\n"
          ],
          "name": "stdout"
        }
      ]
    },
    {
      "cell_type": "code",
      "metadata": {
        "colab": {
          "base_uri": "https://localhost:8080/"
        },
        "id": "uakARgpoeDto",
        "outputId": "e61fe1be-94d5-433c-ac9b-32669072b961"
      },
      "source": [
        "track.duplicated().sum()"
      ],
      "execution_count": 81,
      "outputs": [
        {
          "output_type": "execute_result",
          "data": {
            "text/plain": [
              "50704"
            ]
          },
          "metadata": {
            "tags": []
          },
          "execution_count": 81
        }
      ]
    },
    {
      "cell_type": "code",
      "metadata": {
        "colab": {
          "base_uri": "https://localhost:8080/"
        },
        "id": "6I0HDcH0F_ow",
        "scrolled": false,
        "outputId": "492969d0-d4bb-4511-97ed-5dfa180e12cf"
      },
      "source": [
        "track.isna().sum()"
      ],
      "execution_count": 82,
      "outputs": [
        {
          "output_type": "execute_result",
          "data": {
            "text/plain": [
              "track_id                  0\n",
              "duration                  0\n",
              "release_year              0\n",
              "us_popularity_estimate    0\n",
              "acousticness              0\n",
              "beat_strength             0\n",
              "bounciness                0\n",
              "danceability              0\n",
              "dyn_range_mean            0\n",
              "energy                    0\n",
              "flatness                  0\n",
              "instrumentalness          0\n",
              "key                       0\n",
              "liveness                  0\n",
              "loudness                  0\n",
              "mechanism                 0\n",
              "mode                      0\n",
              "organism                  0\n",
              "speechiness               0\n",
              "tempo                     0\n",
              "time_signature            0\n",
              "valence                   0\n",
              "acoustic_vector_0         0\n",
              "acoustic_vector_1         0\n",
              "acoustic_vector_2         0\n",
              "acoustic_vector_3         0\n",
              "acoustic_vector_4         0\n",
              "acoustic_vector_5         0\n",
              "acoustic_vector_6         0\n",
              "acoustic_vector_7         0\n",
              "dtype: int64"
            ]
          },
          "metadata": {
            "tags": []
          },
          "execution_count": 82
        }
      ]
    },
    {
      "cell_type": "markdown",
      "metadata": {
        "id": "14-eW8w6zTqX"
      },
      "source": [
        "### Statistical summary of track features"
      ]
    },
    {
      "cell_type": "code",
      "metadata": {
        "colab": {
          "base_uri": "https://localhost:8080/",
          "height": 317
        },
        "id": "jbU653jheCWZ",
        "outputId": "9a0ac046-730b-4b29-e84f-2768f68a5142"
      },
      "source": [
        "track.describe()"
      ],
      "execution_count": 83,
      "outputs": [
        {
          "output_type": "execute_result",
          "data": {
            "text/html": [
              "<div>\n",
              "<style scoped>\n",
              "    .dataframe tbody tr th:only-of-type {\n",
              "        vertical-align: middle;\n",
              "    }\n",
              "\n",
              "    .dataframe tbody tr th {\n",
              "        vertical-align: top;\n",
              "    }\n",
              "\n",
              "    .dataframe thead th {\n",
              "        text-align: right;\n",
              "    }\n",
              "</style>\n",
              "<table border=\"1\" class=\"dataframe\">\n",
              "  <thead>\n",
              "    <tr style=\"text-align: right;\">\n",
              "      <th></th>\n",
              "      <th>duration</th>\n",
              "      <th>release_year</th>\n",
              "      <th>us_popularity_estimate</th>\n",
              "      <th>acousticness</th>\n",
              "      <th>beat_strength</th>\n",
              "      <th>bounciness</th>\n",
              "      <th>danceability</th>\n",
              "      <th>dyn_range_mean</th>\n",
              "      <th>energy</th>\n",
              "      <th>flatness</th>\n",
              "      <th>instrumentalness</th>\n",
              "      <th>key</th>\n",
              "      <th>liveness</th>\n",
              "      <th>loudness</th>\n",
              "      <th>mechanism</th>\n",
              "      <th>organism</th>\n",
              "      <th>speechiness</th>\n",
              "      <th>tempo</th>\n",
              "      <th>time_signature</th>\n",
              "      <th>valence</th>\n",
              "      <th>acoustic_vector_0</th>\n",
              "      <th>acoustic_vector_1</th>\n",
              "      <th>acoustic_vector_2</th>\n",
              "      <th>acoustic_vector_3</th>\n",
              "      <th>acoustic_vector_4</th>\n",
              "      <th>acoustic_vector_5</th>\n",
              "      <th>acoustic_vector_6</th>\n",
              "      <th>acoustic_vector_7</th>\n",
              "    </tr>\n",
              "  </thead>\n",
              "  <tbody>\n",
              "    <tr>\n",
              "      <th>count</th>\n",
              "      <td>101408.000000</td>\n",
              "      <td>101408.000000</td>\n",
              "      <td>101408.000000</td>\n",
              "      <td>101408.000000</td>\n",
              "      <td>101408.000000</td>\n",
              "      <td>101408.000000</td>\n",
              "      <td>101408.000000</td>\n",
              "      <td>101408.000000</td>\n",
              "      <td>101408.000000</td>\n",
              "      <td>101408.000000</td>\n",
              "      <td>1.014080e+05</td>\n",
              "      <td>101408.000000</td>\n",
              "      <td>101408.000000</td>\n",
              "      <td>101408.000000</td>\n",
              "      <td>101408.000000</td>\n",
              "      <td>101408.000000</td>\n",
              "      <td>101408.000000</td>\n",
              "      <td>101408.000000</td>\n",
              "      <td>101408.000000</td>\n",
              "      <td>101408.000000</td>\n",
              "      <td>101408.000000</td>\n",
              "      <td>101408.000000</td>\n",
              "      <td>101408.000000</td>\n",
              "      <td>101408.000000</td>\n",
              "      <td>101408.000000</td>\n",
              "      <td>101408.000000</td>\n",
              "      <td>101408.000000</td>\n",
              "      <td>101408.000000</td>\n",
              "    </tr>\n",
              "    <tr>\n",
              "      <th>mean</th>\n",
              "      <td>222.267980</td>\n",
              "      <td>2010.324748</td>\n",
              "      <td>99.455131</td>\n",
              "      <td>0.250336</td>\n",
              "      <td>0.492075</td>\n",
              "      <td>0.514526</td>\n",
              "      <td>0.611742</td>\n",
              "      <td>8.215950</td>\n",
              "      <td>0.641440</td>\n",
              "      <td>0.996548</td>\n",
              "      <td>7.058671e-02</td>\n",
              "      <td>5.269111</td>\n",
              "      <td>0.205520</td>\n",
              "      <td>-7.519316</td>\n",
              "      <td>0.547603</td>\n",
              "      <td>0.391874</td>\n",
              "      <td>0.122998</td>\n",
              "      <td>121.576396</td>\n",
              "      <td>3.913163</td>\n",
              "      <td>0.487804</td>\n",
              "      <td>-0.332295</td>\n",
              "      <td>0.202193</td>\n",
              "      <td>0.153935</td>\n",
              "      <td>-0.040526</td>\n",
              "      <td>-0.027247</td>\n",
              "      <td>0.049475</td>\n",
              "      <td>-0.197758</td>\n",
              "      <td>0.005153</td>\n",
              "    </tr>\n",
              "    <tr>\n",
              "      <th>std</th>\n",
              "      <td>72.224483</td>\n",
              "      <td>11.471809</td>\n",
              "      <td>1.139216</td>\n",
              "      <td>0.276046</td>\n",
              "      <td>0.158102</td>\n",
              "      <td>0.182594</td>\n",
              "      <td>0.166145</td>\n",
              "      <td>2.410614</td>\n",
              "      <td>0.207956</td>\n",
              "      <td>0.045611</td>\n",
              "      <td>2.142251e-01</td>\n",
              "      <td>3.597560</td>\n",
              "      <td>0.176485</td>\n",
              "      <td>3.927838</td>\n",
              "      <td>0.223801</td>\n",
              "      <td>0.207115</td>\n",
              "      <td>0.136021</td>\n",
              "      <td>29.786594</td>\n",
              "      <td>0.410034</td>\n",
              "      <td>0.246375</td>\n",
              "      <td>0.416318</td>\n",
              "      <td>0.254022</td>\n",
              "      <td>0.212658</td>\n",
              "      <td>0.333127</td>\n",
              "      <td>0.377455</td>\n",
              "      <td>0.144204</td>\n",
              "      <td>0.349838</td>\n",
              "      <td>0.324258</td>\n",
              "    </tr>\n",
              "    <tr>\n",
              "      <th>min</th>\n",
              "      <td>30.013330</td>\n",
              "      <td>1950.000000</td>\n",
              "      <td>90.018900</td>\n",
              "      <td>0.000000</td>\n",
              "      <td>0.000000</td>\n",
              "      <td>0.000000</td>\n",
              "      <td>0.000000</td>\n",
              "      <td>0.000000</td>\n",
              "      <td>0.000000</td>\n",
              "      <td>0.000000</td>\n",
              "      <td>0.000000e+00</td>\n",
              "      <td>0.000000</td>\n",
              "      <td>0.000000</td>\n",
              "      <td>-60.000000</td>\n",
              "      <td>0.000000</td>\n",
              "      <td>0.000000</td>\n",
              "      <td>0.000000</td>\n",
              "      <td>0.000000</td>\n",
              "      <td>0.000000</td>\n",
              "      <td>0.000000</td>\n",
              "      <td>-1.122792</td>\n",
              "      <td>-1.084360</td>\n",
              "      <td>-0.752231</td>\n",
              "      <td>-0.809136</td>\n",
              "      <td>-1.029858</td>\n",
              "      <td>-0.942461</td>\n",
              "      <td>-0.736395</td>\n",
              "      <td>-0.975647</td>\n",
              "    </tr>\n",
              "    <tr>\n",
              "      <th>25%</th>\n",
              "      <td>183.933334</td>\n",
              "      <td>2009.000000</td>\n",
              "      <td>99.509670</td>\n",
              "      <td>0.025291</td>\n",
              "      <td>0.374378</td>\n",
              "      <td>0.372463</td>\n",
              "      <td>0.502499</td>\n",
              "      <td>6.356671</td>\n",
              "      <td>0.507839</td>\n",
              "      <td>0.975910</td>\n",
              "      <td>1.084167e-08</td>\n",
              "      <td>2.000000</td>\n",
              "      <td>0.098249</td>\n",
              "      <td>-8.942000</td>\n",
              "      <td>0.366652</td>\n",
              "      <td>0.225742</td>\n",
              "      <td>0.038028</td>\n",
              "      <td>97.158997</td>\n",
              "      <td>4.000000</td>\n",
              "      <td>0.292559</td>\n",
              "      <td>-0.745148</td>\n",
              "      <td>0.086460</td>\n",
              "      <td>0.051604</td>\n",
              "      <td>-0.294574</td>\n",
              "      <td>-0.318751</td>\n",
              "      <td>-0.038337</td>\n",
              "      <td>-0.444849</td>\n",
              "      <td>-0.176821</td>\n",
              "    </tr>\n",
              "    <tr>\n",
              "      <th>50%</th>\n",
              "      <td>214.866669</td>\n",
              "      <td>2015.000000</td>\n",
              "      <td>99.865444</td>\n",
              "      <td>0.135821</td>\n",
              "      <td>0.493764</td>\n",
              "      <td>0.522266</td>\n",
              "      <td>0.625145</td>\n",
              "      <td>8.015075</td>\n",
              "      <td>0.661368</td>\n",
              "      <td>1.003790</td>\n",
              "      <td>2.211650e-06</td>\n",
              "      <td>5.000000</td>\n",
              "      <td>0.131403</td>\n",
              "      <td>-6.688000</td>\n",
              "      <td>0.571023</td>\n",
              "      <td>0.364057</td>\n",
              "      <td>0.061794</td>\n",
              "      <td>120.115498</td>\n",
              "      <td>4.000000</td>\n",
              "      <td>0.478244</td>\n",
              "      <td>-0.334799</td>\n",
              "      <td>0.265535</td>\n",
              "      <td>0.207705</td>\n",
              "      <td>-0.001755</td>\n",
              "      <td>-0.176974</td>\n",
              "      <td>0.062719</td>\n",
              "      <td>-0.298599</td>\n",
              "      <td>0.090423</td>\n",
              "    </tr>\n",
              "    <tr>\n",
              "      <th>75%</th>\n",
              "      <td>250.426666</td>\n",
              "      <td>2017.000000</td>\n",
              "      <td>99.961131</td>\n",
              "      <td>0.406142</td>\n",
              "      <td>0.604994</td>\n",
              "      <td>0.655912</td>\n",
              "      <td>0.736241</td>\n",
              "      <td>9.792092</td>\n",
              "      <td>0.803185</td>\n",
              "      <td>1.026137</td>\n",
              "      <td>7.654784e-04</td>\n",
              "      <td>8.000000</td>\n",
              "      <td>0.262823</td>\n",
              "      <td>-5.043000</td>\n",
              "      <td>0.729537</td>\n",
              "      <td>0.533131</td>\n",
              "      <td>0.160202</td>\n",
              "      <td>141.014008</td>\n",
              "      <td>4.000000</td>\n",
              "      <td>0.677947</td>\n",
              "      <td>0.045921</td>\n",
              "      <td>0.359553</td>\n",
              "      <td>0.296132</td>\n",
              "      <td>0.146828</td>\n",
              "      <td>0.280852</td>\n",
              "      <td>0.160366</td>\n",
              "      <td>-0.075158</td>\n",
              "      <td>0.194285</td>\n",
              "    </tr>\n",
              "    <tr>\n",
              "      <th>max</th>\n",
              "      <td>1787.760986</td>\n",
              "      <td>2018.000000</td>\n",
              "      <td>99.999997</td>\n",
              "      <td>0.995796</td>\n",
              "      <td>0.990419</td>\n",
              "      <td>0.972590</td>\n",
              "      <td>0.984952</td>\n",
              "      <td>32.342781</td>\n",
              "      <td>0.999877</td>\n",
              "      <td>1.103213</td>\n",
              "      <td>9.993988e-01</td>\n",
              "      <td>11.000000</td>\n",
              "      <td>0.996257</td>\n",
              "      <td>1.634000</td>\n",
              "      <td>1.000000</td>\n",
              "      <td>0.962350</td>\n",
              "      <td>0.961408</td>\n",
              "      <td>218.774994</td>\n",
              "      <td>5.000000</td>\n",
              "      <td>0.999990</td>\n",
              "      <td>0.932165</td>\n",
              "      <td>0.812837</td>\n",
              "      <td>0.605288</td>\n",
              "      <td>1.074504</td>\n",
              "      <td>0.895769</td>\n",
              "      <td>0.380279</td>\n",
              "      <td>0.966760</td>\n",
              "      <td>1.152213</td>\n",
              "    </tr>\n",
              "  </tbody>\n",
              "</table>\n",
              "</div>"
            ],
            "text/plain": [
              "            duration   release_year  ...  acoustic_vector_6  acoustic_vector_7\n",
              "count  101408.000000  101408.000000  ...      101408.000000      101408.000000\n",
              "mean      222.267980    2010.324748  ...          -0.197758           0.005153\n",
              "std        72.224483      11.471809  ...           0.349838           0.324258\n",
              "min        30.013330    1950.000000  ...          -0.736395          -0.975647\n",
              "25%       183.933334    2009.000000  ...          -0.444849          -0.176821\n",
              "50%       214.866669    2015.000000  ...          -0.298599           0.090423\n",
              "75%       250.426666    2017.000000  ...          -0.075158           0.194285\n",
              "max      1787.760986    2018.000000  ...           0.966760           1.152213\n",
              "\n",
              "[8 rows x 28 columns]"
            ]
          },
          "metadata": {
            "tags": []
          },
          "execution_count": 83
        }
      ]
    },
    {
      "cell_type": "code",
      "metadata": {
        "colab": {
          "base_uri": "https://localhost:8080/",
          "height": 173
        },
        "id": "gUzal2XyeC2V",
        "outputId": "f45c2ddb-da20-4b4b-9a76-fde2ca090e8f"
      },
      "source": [
        "# summary for object columns:\n",
        "track.describe(include='O')"
      ],
      "execution_count": 84,
      "outputs": [
        {
          "output_type": "execute_result",
          "data": {
            "text/html": [
              "<div>\n",
              "<style scoped>\n",
              "    .dataframe tbody tr th:only-of-type {\n",
              "        vertical-align: middle;\n",
              "    }\n",
              "\n",
              "    .dataframe tbody tr th {\n",
              "        vertical-align: top;\n",
              "    }\n",
              "\n",
              "    .dataframe thead th {\n",
              "        text-align: right;\n",
              "    }\n",
              "</style>\n",
              "<table border=\"1\" class=\"dataframe\">\n",
              "  <thead>\n",
              "    <tr style=\"text-align: right;\">\n",
              "      <th></th>\n",
              "      <th>track_id</th>\n",
              "      <th>mode</th>\n",
              "    </tr>\n",
              "  </thead>\n",
              "  <tbody>\n",
              "    <tr>\n",
              "      <th>count</th>\n",
              "      <td>101408</td>\n",
              "      <td>101408</td>\n",
              "    </tr>\n",
              "    <tr>\n",
              "      <th>unique</th>\n",
              "      <td>50704</td>\n",
              "      <td>2</td>\n",
              "    </tr>\n",
              "    <tr>\n",
              "      <th>top</th>\n",
              "      <td>t_de63126b-07be-4cc5-be4e-3fca17f0ef5f</td>\n",
              "      <td>major</td>\n",
              "    </tr>\n",
              "    <tr>\n",
              "      <th>freq</th>\n",
              "      <td>2</td>\n",
              "      <td>65110</td>\n",
              "    </tr>\n",
              "  </tbody>\n",
              "</table>\n",
              "</div>"
            ],
            "text/plain": [
              "                                      track_id    mode\n",
              "count                                   101408  101408\n",
              "unique                                   50704       2\n",
              "top     t_de63126b-07be-4cc5-be4e-3fca17f0ef5f   major\n",
              "freq                                         2   65110"
            ]
          },
          "metadata": {
            "tags": []
          },
          "execution_count": 84
        }
      ]
    },
    {
      "cell_type": "markdown",
      "metadata": {
        "id": "X0LM-tAWzTqY"
      },
      "source": [
        "### EDA "
      ]
    },
    {
      "cell_type": "code",
      "metadata": {
        "colab": {
          "base_uri": "https://localhost:8080/",
          "height": 204
        },
        "id": "qm6UGXNnzTqY",
        "outputId": "a2463987-5945-4979-e9ab-f48ff5e09409"
      },
      "source": [
        "# extracting columns other than float ie, int and object for eda :\n",
        "tf[[c for c in tf.columns if tf[c].dtype != 'float64']].head()"
      ],
      "execution_count": 85,
      "outputs": [
        {
          "output_type": "execute_result",
          "data": {
            "text/html": [
              "<div>\n",
              "<style scoped>\n",
              "    .dataframe tbody tr th:only-of-type {\n",
              "        vertical-align: middle;\n",
              "    }\n",
              "\n",
              "    .dataframe tbody tr th {\n",
              "        vertical-align: top;\n",
              "    }\n",
              "\n",
              "    .dataframe thead th {\n",
              "        text-align: right;\n",
              "    }\n",
              "</style>\n",
              "<table border=\"1\" class=\"dataframe\">\n",
              "  <thead>\n",
              "    <tr style=\"text-align: right;\">\n",
              "      <th></th>\n",
              "      <th>track_id</th>\n",
              "      <th>release_year</th>\n",
              "      <th>key</th>\n",
              "      <th>mode</th>\n",
              "      <th>time_signature</th>\n",
              "    </tr>\n",
              "  </thead>\n",
              "  <tbody>\n",
              "    <tr>\n",
              "      <th>0</th>\n",
              "      <td>t_a540e552-16d4-42f8-a185-232bd650ea7d</td>\n",
              "      <td>1950</td>\n",
              "      <td>0</td>\n",
              "      <td>major</td>\n",
              "      <td>4</td>\n",
              "    </tr>\n",
              "    <tr>\n",
              "      <th>1</th>\n",
              "      <td>t_67965da0-132b-4b1e-8a69-0ef99b32287c</td>\n",
              "      <td>1950</td>\n",
              "      <td>0</td>\n",
              "      <td>major</td>\n",
              "      <td>3</td>\n",
              "    </tr>\n",
              "    <tr>\n",
              "      <th>2</th>\n",
              "      <td>t_0614ecd3-a7d5-40a1-816e-156d5872a467</td>\n",
              "      <td>1951</td>\n",
              "      <td>0</td>\n",
              "      <td>minor</td>\n",
              "      <td>4</td>\n",
              "    </tr>\n",
              "    <tr>\n",
              "      <th>3</th>\n",
              "      <td>t_070a63a0-744a-434e-9913-a97b02926a29</td>\n",
              "      <td>1951</td>\n",
              "      <td>0</td>\n",
              "      <td>major</td>\n",
              "      <td>4</td>\n",
              "    </tr>\n",
              "    <tr>\n",
              "      <th>4</th>\n",
              "      <td>t_d6990e17-9c31-4b01-8559-47d9ce476df1</td>\n",
              "      <td>1951</td>\n",
              "      <td>0</td>\n",
              "      <td>major</td>\n",
              "      <td>4</td>\n",
              "    </tr>\n",
              "  </tbody>\n",
              "</table>\n",
              "</div>"
            ],
            "text/plain": [
              "                                 track_id  release_year  ...   mode time_signature\n",
              "0  t_a540e552-16d4-42f8-a185-232bd650ea7d          1950  ...  major              4\n",
              "1  t_67965da0-132b-4b1e-8a69-0ef99b32287c          1950  ...  major              3\n",
              "2  t_0614ecd3-a7d5-40a1-816e-156d5872a467          1951  ...  minor              4\n",
              "3  t_070a63a0-744a-434e-9913-a97b02926a29          1951  ...  major              4\n",
              "4  t_d6990e17-9c31-4b01-8559-47d9ce476df1          1951  ...  major              4\n",
              "\n",
              "[5 rows x 5 columns]"
            ]
          },
          "metadata": {
            "tags": []
          },
          "execution_count": 85
        }
      ]
    },
    {
      "cell_type": "code",
      "metadata": {
        "colab": {
          "base_uri": "https://localhost:8080/",
          "height": 350
        },
        "id": "6Zo8Q89beDCg",
        "outputId": "844ebcf8-5434-47f6-ecde-3680c0780a0e"
      },
      "source": [
        "# distribution of release years : \n",
        "sns.distplot(track.release_year)\n",
        "plt.title(\"Distribution of Release Years\");"
      ],
      "execution_count": 86,
      "outputs": [
        {
          "output_type": "stream",
          "text": [
            "/usr/local/lib/python3.6/dist-packages/seaborn/distributions.py:2557: FutureWarning: `distplot` is a deprecated function and will be removed in a future version. Please adapt your code to use either `displot` (a figure-level function with similar flexibility) or `histplot` (an axes-level function for histograms).\n",
            "  warnings.warn(msg, FutureWarning)\n"
          ],
          "name": "stderr"
        },
        {
          "output_type": "display_data",
          "data": {
            "image/png": "[encoded data removed]",
            "text/plain": [
              "<Figure size 432x288 with 1 Axes>"
            ]
          },
          "metadata": {
            "tags": [],
            "needs_background": "light"
          }
        }
      ]
    },
    {
      "cell_type": "code",
      "metadata": {
        "colab": {
          "base_uri": "https://localhost:8080/"
        },
        "id": "3I1KJIhkzTqZ",
        "outputId": "e434193e-04b5-42ff-9bba-dc36571cc35d"
      },
      "source": [
        "track['key'].unique()"
      ],
      "execution_count": 87,
      "outputs": [
        {
          "output_type": "execute_result",
          "data": {
            "text/plain": [
              "array([ 0,  1,  2,  3,  4,  5,  6,  7,  8,  9, 10, 11])"
            ]
          },
          "metadata": {
            "tags": []
          },
          "execution_count": 87
        }
      ]
    },
    {
      "cell_type": "code",
      "metadata": {
        "colab": {
          "base_uri": "https://localhost:8080/"
        },
        "id": "DOhR7WR7eDI9",
        "outputId": "fb2470c3-fe5c-4076-8d58-d677c61b06d8"
      },
      "source": [
        "track['mode'].value_counts()"
      ],
      "execution_count": 88,
      "outputs": [
        {
          "output_type": "execute_result",
          "data": {
            "text/plain": [
              "major    65110\n",
              "minor    36298\n",
              "Name: mode, dtype: int64"
            ]
          },
          "metadata": {
            "tags": []
          },
          "execution_count": 88
        }
      ]
    },
    {
      "cell_type": "code",
      "metadata": {
        "id": "9UmqbnPYiT5W"
      },
      "source": [
        "# creating label encoding/one hot encoding of mode column \n",
        "track['mode'] = track['mode'].replace({\n",
        "    'major': 1,\n",
        "    'minor': 0\n",
        "})"
      ],
      "execution_count": 89,
      "outputs": []
    },
    {
      "cell_type": "markdown",
      "metadata": {
        "id": "1D598iSjzTqb"
      },
      "source": [
        "### Analysing numerical columns"
      ]
    },
    {
      "cell_type": "code",
      "metadata": {
        "colab": {
          "base_uri": "https://localhost:8080/",
          "height": 879
        },
        "id": "Okk_uOx-eDXV",
        "outputId": "e20a4d5b-0f1c-4d99-f54c-1f0299351e8b"
      },
      "source": [
        "track.hist(figsize=(20,15));"
      ],
      "execution_count": 90,
      "outputs": [
        {
          "output_type": "display_data",
          "data": {
            "image/png": "[encoded data removed]",
            "text/plain": [
              "<Figure size 1440x1080 with 30 Axes>"
            ]
          },
          "metadata": {
            "tags": [],
            "needs_background": "light"
          }
        }
      ]
    },
    {
      "cell_type": "markdown",
      "metadata": {
        "id": "7JZaMx8tzTqb"
      },
      "source": [
        "### Correlation matrix  "
      ]
    },
    {
      "cell_type": "code",
      "metadata": {
        "colab": {
          "base_uri": "https://localhost:8080/",
          "height": 973
        },
        "id": "9PdNn-hTeDm1",
        "outputId": "4f860869-b1b4-4221-f78c-d4675bc127be"
      },
      "source": [
        "plt.figure(figsize=(20,15))\n",
        "sns.heatmap(tf.corr(), annot=True);"
      ],
      "execution_count": 91,
      "outputs": [
        {
          "output_type": "display_data",
          "data": {
            "image/png": "[encoded data removed]",
            "text/plain": [
              "<Figure size 1440x1080 with 2 Axes>"
            ]
          },
          "metadata": {
            "tags": [],
            "needs_background": "light"
          }
        }
      ]
    },
    {
      "cell_type": "markdown",
      "metadata": {
        "id": "-3tJ0eFgzTqc"
      },
      "source": [
        "### Merging track and Training Data on the basis of track_id (primary key):"
      ]
    },
    {
      "cell_type": "code",
      "metadata": {
        "colab": {
          "base_uri": "https://localhost:8080/"
        },
        "id": "LxAMbVVjZ48U",
        "outputId": "f32c3b96-d17c-49b6-a97c-61c2358b837f"
      },
      "source": [
        "track.shape"
      ],
      "execution_count": 92,
      "outputs": [
        {
          "output_type": "execute_result",
          "data": {
            "text/plain": [
              "(101408, 30)"
            ]
          },
          "metadata": {
            "tags": []
          },
          "execution_count": 92
        }
      ]
    },
    {
      "cell_type": "code",
      "metadata": {
        "colab": {
          "base_uri": "https://localhost:8080/"
        },
        "id": "kZevIM1cZ5zq",
        "outputId": "24c634b6-30e9-4bdc-de0d-cecbe1857210"
      },
      "source": [
        "df.shape"
      ],
      "execution_count": 93,
      "outputs": [
        {
          "output_type": "execute_result",
          "data": {
            "text/plain": [
              "(167880, 17)"
            ]
          },
          "metadata": {
            "tags": []
          },
          "execution_count": 93
        }
      ]
    },
    {
      "cell_type": "code",
      "metadata": {
        "id": "Uqbo8Zo6F_t_"
      },
      "source": [
        "df.rename(columns={'track_id_clean': 'track_id'}, inplace=True)"
      ],
      "execution_count": 94,
      "outputs": []
    },
    {
      "cell_type": "code",
      "metadata": {
        "colab": {
          "base_uri": "https://localhost:8080/"
        },
        "id": "EdhBtRkxF_wn",
        "outputId": "53c46225-f741-4538-b300-c724768b27e3"
      },
      "source": [
        "final_train = pd.merge(df, track, on=['track_id'], left_index=True, right_index=False, sort=True)\n",
        "final_train.shape"
      ],
      "execution_count": 95,
      "outputs": [
        {
          "output_type": "execute_result",
          "data": {
            "text/plain": [
              "(335760, 46)"
            ]
          },
          "metadata": {
            "tags": []
          },
          "execution_count": 95
        }
      ]
    },
    {
      "cell_type": "code",
      "metadata": {
        "id": "kRHRKWr4F_2i"
      },
      "source": [
        "final_train.sort_values(axis=0, by=['session_id','session_position'], inplace=True)\n",
        "final_train.reset_index(drop=True,inplace=True)"
      ],
      "execution_count": 97,
      "outputs": []
    },
    {
      "cell_type": "code",
      "metadata": {
        "colab": {
          "base_uri": "https://localhost:8080/",
          "height": 479
        },
        "id": "BJfqe02VPlJA",
        "outputId": "cef7dbe0-0f4c-4b99-f615-106e56150d7f"
      },
      "source": [
        "final_train.head()"
      ],
      "execution_count": 98,
      "outputs": [
        {
          "output_type": "execute_result",
          "data": {
            "text/html": [
              "<div>\n",
              "<style scoped>\n",
              "    .dataframe tbody tr th:only-of-type {\n",
              "        vertical-align: middle;\n",
              "    }\n",
              "\n",
              "    .dataframe tbody tr th {\n",
              "        vertical-align: top;\n",
              "    }\n",
              "\n",
              "    .dataframe thead th {\n",
              "        text-align: right;\n",
              "    }\n",
              "</style>\n",
              "<table border=\"1\" class=\"dataframe\">\n",
              "  <thead>\n",
              "    <tr style=\"text-align: right;\">\n",
              "      <th></th>\n",
              "      <th>session_id</th>\n",
              "      <th>session_position</th>\n",
              "      <th>session_length</th>\n",
              "      <th>track_id</th>\n",
              "      <th>context_switch</th>\n",
              "      <th>no_pause_before_play</th>\n",
              "      <th>short_pause_before_play</th>\n",
              "      <th>long_pause_before_play</th>\n",
              "      <th>hist_user_behavior_n_seekfwd</th>\n",
              "      <th>hist_user_behavior_n_seekback</th>\n",
              "      <th>hist_user_behavior_is_shuffle</th>\n",
              "      <th>hour_of_day</th>\n",
              "      <th>premium</th>\n",
              "      <th>context_type</th>\n",
              "      <th>hist_user_behavior_reason_start</th>\n",
              "      <th>hist_user_behavior_reason_end</th>\n",
              "      <th>skip</th>\n",
              "      <th>duration</th>\n",
              "      <th>release_year</th>\n",
              "      <th>us_popularity_estimate</th>\n",
              "      <th>acousticness</th>\n",
              "      <th>beat_strength</th>\n",
              "      <th>bounciness</th>\n",
              "      <th>danceability</th>\n",
              "      <th>dyn_range_mean</th>\n",
              "      <th>energy</th>\n",
              "      <th>flatness</th>\n",
              "      <th>instrumentalness</th>\n",
              "      <th>key</th>\n",
              "      <th>liveness</th>\n",
              "      <th>loudness</th>\n",
              "      <th>mechanism</th>\n",
              "      <th>mode</th>\n",
              "      <th>organism</th>\n",
              "      <th>speechiness</th>\n",
              "      <th>tempo</th>\n",
              "      <th>time_signature</th>\n",
              "      <th>valence</th>\n",
              "      <th>acoustic_vector_0</th>\n",
              "      <th>acoustic_vector_1</th>\n",
              "      <th>acoustic_vector_2</th>\n",
              "      <th>acoustic_vector_3</th>\n",
              "      <th>acoustic_vector_4</th>\n",
              "      <th>acoustic_vector_5</th>\n",
              "      <th>acoustic_vector_6</th>\n",
              "      <th>acoustic_vector_7</th>\n",
              "    </tr>\n",
              "  </thead>\n",
              "  <tbody>\n",
              "    <tr>\n",
              "      <th>0</th>\n",
              "      <td>0_00006f66-33e5-4de7-a324-2d18e439fc1e</td>\n",
              "      <td>1</td>\n",
              "      <td>20</td>\n",
              "      <td>t_0479f24c-27d2-46d6-a00c-7ec928f2b539</td>\n",
              "      <td>0</td>\n",
              "      <td>0</td>\n",
              "      <td>0</td>\n",
              "      <td>0</td>\n",
              "      <td>0</td>\n",
              "      <td>0</td>\n",
              "      <td>1</td>\n",
              "      <td>16</td>\n",
              "      <td>1</td>\n",
              "      <td>editorial_playlist</td>\n",
              "      <td>trackdone</td>\n",
              "      <td>trackdone</td>\n",
              "      <td>0</td>\n",
              "      <td>180.066666</td>\n",
              "      <td>2018</td>\n",
              "      <td>99.968133</td>\n",
              "      <td>0.015848</td>\n",
              "      <td>0.438551</td>\n",
              "      <td>0.473455</td>\n",
              "      <td>0.653119</td>\n",
              "      <td>7.660024</td>\n",
              "      <td>0.553465</td>\n",
              "      <td>1.035007</td>\n",
              "      <td>3.484468e-03</td>\n",
              "      <td>1</td>\n",
              "      <td>0.678553</td>\n",
              "      <td>-6.577</td>\n",
              "      <td>0.546784</td>\n",
              "      <td>1</td>\n",
              "      <td>0.320668</td>\n",
              "      <td>0.069717</td>\n",
              "      <td>134.024994</td>\n",
              "      <td>4</td>\n",
              "      <td>0.152255</td>\n",
              "      <td>-0.815775</td>\n",
              "      <td>0.386409</td>\n",
              "      <td>0.230160</td>\n",
              "      <td>0.028028</td>\n",
              "      <td>-0.333373</td>\n",
              "      <td>0.015452</td>\n",
              "      <td>-0.353590</td>\n",
              "      <td>0.205826</td>\n",
              "    </tr>\n",
              "    <tr>\n",
              "      <th>1</th>\n",
              "      <td>0_00006f66-33e5-4de7-a324-2d18e439fc1e</td>\n",
              "      <td>1</td>\n",
              "      <td>20</td>\n",
              "      <td>t_0479f24c-27d2-46d6-a00c-7ec928f2b539</td>\n",
              "      <td>0</td>\n",
              "      <td>0</td>\n",
              "      <td>0</td>\n",
              "      <td>0</td>\n",
              "      <td>0</td>\n",
              "      <td>0</td>\n",
              "      <td>1</td>\n",
              "      <td>16</td>\n",
              "      <td>1</td>\n",
              "      <td>editorial_playlist</td>\n",
              "      <td>trackdone</td>\n",
              "      <td>trackdone</td>\n",
              "      <td>0</td>\n",
              "      <td>180.066666</td>\n",
              "      <td>2018</td>\n",
              "      <td>99.968133</td>\n",
              "      <td>0.015848</td>\n",
              "      <td>0.438551</td>\n",
              "      <td>0.473455</td>\n",
              "      <td>0.653119</td>\n",
              "      <td>7.660024</td>\n",
              "      <td>0.553465</td>\n",
              "      <td>1.035007</td>\n",
              "      <td>3.484468e-03</td>\n",
              "      <td>1</td>\n",
              "      <td>0.678553</td>\n",
              "      <td>-6.577</td>\n",
              "      <td>0.546784</td>\n",
              "      <td>1</td>\n",
              "      <td>0.320668</td>\n",
              "      <td>0.069717</td>\n",
              "      <td>134.024994</td>\n",
              "      <td>4</td>\n",
              "      <td>0.152255</td>\n",
              "      <td>-0.815775</td>\n",
              "      <td>0.386409</td>\n",
              "      <td>0.230160</td>\n",
              "      <td>0.028028</td>\n",
              "      <td>-0.333373</td>\n",
              "      <td>0.015452</td>\n",
              "      <td>-0.353590</td>\n",
              "      <td>0.205826</td>\n",
              "    </tr>\n",
              "    <tr>\n",
              "      <th>2</th>\n",
              "      <td>0_00006f66-33e5-4de7-a324-2d18e439fc1e</td>\n",
              "      <td>2</td>\n",
              "      <td>20</td>\n",
              "      <td>t_9099cd7b-c238-47b7-9381-f23f2c1d1043</td>\n",
              "      <td>0</td>\n",
              "      <td>1</td>\n",
              "      <td>0</td>\n",
              "      <td>0</td>\n",
              "      <td>0</td>\n",
              "      <td>0</td>\n",
              "      <td>1</td>\n",
              "      <td>16</td>\n",
              "      <td>1</td>\n",
              "      <td>editorial_playlist</td>\n",
              "      <td>trackdone</td>\n",
              "      <td>trackdone</td>\n",
              "      <td>0</td>\n",
              "      <td>236.796371</td>\n",
              "      <td>2018</td>\n",
              "      <td>99.896728</td>\n",
              "      <td>0.061811</td>\n",
              "      <td>0.654804</td>\n",
              "      <td>0.735661</td>\n",
              "      <td>0.877393</td>\n",
              "      <td>11.308750</td>\n",
              "      <td>0.726828</td>\n",
              "      <td>1.025636</td>\n",
              "      <td>1.031315e-07</td>\n",
              "      <td>7</td>\n",
              "      <td>0.104322</td>\n",
              "      <td>-5.319</td>\n",
              "      <td>0.824766</td>\n",
              "      <td>0</td>\n",
              "      <td>0.131391</td>\n",
              "      <td>0.061158</td>\n",
              "      <td>130.037994</td>\n",
              "      <td>4</td>\n",
              "      <td>0.337152</td>\n",
              "      <td>-0.713646</td>\n",
              "      <td>0.363718</td>\n",
              "      <td>0.310315</td>\n",
              "      <td>-0.042222</td>\n",
              "      <td>-0.383164</td>\n",
              "      <td>0.066357</td>\n",
              "      <td>-0.365308</td>\n",
              "      <td>0.157920</td>\n",
              "    </tr>\n",
              "    <tr>\n",
              "      <th>3</th>\n",
              "      <td>0_00006f66-33e5-4de7-a324-2d18e439fc1e</td>\n",
              "      <td>2</td>\n",
              "      <td>20</td>\n",
              "      <td>t_9099cd7b-c238-47b7-9381-f23f2c1d1043</td>\n",
              "      <td>0</td>\n",
              "      <td>1</td>\n",
              "      <td>0</td>\n",
              "      <td>0</td>\n",
              "      <td>0</td>\n",
              "      <td>0</td>\n",
              "      <td>1</td>\n",
              "      <td>16</td>\n",
              "      <td>1</td>\n",
              "      <td>editorial_playlist</td>\n",
              "      <td>trackdone</td>\n",
              "      <td>trackdone</td>\n",
              "      <td>0</td>\n",
              "      <td>236.796371</td>\n",
              "      <td>2018</td>\n",
              "      <td>99.896728</td>\n",
              "      <td>0.061811</td>\n",
              "      <td>0.654804</td>\n",
              "      <td>0.735661</td>\n",
              "      <td>0.877393</td>\n",
              "      <td>11.308750</td>\n",
              "      <td>0.726828</td>\n",
              "      <td>1.025636</td>\n",
              "      <td>1.031315e-07</td>\n",
              "      <td>7</td>\n",
              "      <td>0.104322</td>\n",
              "      <td>-5.319</td>\n",
              "      <td>0.824766</td>\n",
              "      <td>0</td>\n",
              "      <td>0.131391</td>\n",
              "      <td>0.061158</td>\n",
              "      <td>130.037994</td>\n",
              "      <td>4</td>\n",
              "      <td>0.337152</td>\n",
              "      <td>-0.713646</td>\n",
              "      <td>0.363718</td>\n",
              "      <td>0.310315</td>\n",
              "      <td>-0.042222</td>\n",
              "      <td>-0.383164</td>\n",
              "      <td>0.066357</td>\n",
              "      <td>-0.365308</td>\n",
              "      <td>0.157920</td>\n",
              "    </tr>\n",
              "    <tr>\n",
              "      <th>4</th>\n",
              "      <td>0_00006f66-33e5-4de7-a324-2d18e439fc1e</td>\n",
              "      <td>3</td>\n",
              "      <td>20</td>\n",
              "      <td>t_fc5df5ba-5396-49a7-8b29-35d0d28249e0</td>\n",
              "      <td>0</td>\n",
              "      <td>1</td>\n",
              "      <td>0</td>\n",
              "      <td>0</td>\n",
              "      <td>0</td>\n",
              "      <td>0</td>\n",
              "      <td>1</td>\n",
              "      <td>16</td>\n",
              "      <td>1</td>\n",
              "      <td>editorial_playlist</td>\n",
              "      <td>trackdone</td>\n",
              "      <td>trackdone</td>\n",
              "      <td>0</td>\n",
              "      <td>231.266663</td>\n",
              "      <td>2018</td>\n",
              "      <td>99.999976</td>\n",
              "      <td>0.354116</td>\n",
              "      <td>0.532155</td>\n",
              "      <td>0.540411</td>\n",
              "      <td>0.679719</td>\n",
              "      <td>8.065802</td>\n",
              "      <td>0.563009</td>\n",
              "      <td>1.029465</td>\n",
              "      <td>2.659035e-08</td>\n",
              "      <td>10</td>\n",
              "      <td>0.135776</td>\n",
              "      <td>-5.843</td>\n",
              "      <td>0.774327</td>\n",
              "      <td>1</td>\n",
              "      <td>0.296923</td>\n",
              "      <td>0.045354</td>\n",
              "      <td>145.028000</td>\n",
              "      <td>4</td>\n",
              "      <td>0.373862</td>\n",
              "      <td>-0.742541</td>\n",
              "      <td>0.375599</td>\n",
              "      <td>0.252660</td>\n",
              "      <td>-0.049007</td>\n",
              "      <td>-0.299745</td>\n",
              "      <td>0.063341</td>\n",
              "      <td>-0.486689</td>\n",
              "      <td>0.181604</td>\n",
              "    </tr>\n",
              "  </tbody>\n",
              "</table>\n",
              "</div>"
            ],
            "text/plain": [
              "                               session_id  ...  acoustic_vector_7\n",
              "0  0_00006f66-33e5-4de7-a324-2d18e439fc1e  ...           0.205826\n",
              "1  0_00006f66-33e5-4de7-a324-2d18e439fc1e  ...           0.205826\n",
              "2  0_00006f66-33e5-4de7-a324-2d18e439fc1e  ...           0.157920\n",
              "3  0_00006f66-33e5-4de7-a324-2d18e439fc1e  ...           0.157920\n",
              "4  0_00006f66-33e5-4de7-a324-2d18e439fc1e  ...           0.181604\n",
              "\n",
              "[5 rows x 46 columns]"
            ]
          },
          "metadata": {
            "tags": []
          },
          "execution_count": 98
        }
      ]
    },
    {
      "cell_type": "code",
      "metadata": {
        "colab": {
          "base_uri": "https://localhost:8080/"
        },
        "id": "RLo8gufMeQ82",
        "outputId": "b2f60801-0840-4733-95ea-89f6c4908a91"
      },
      "source": [
        "ft = final_train.drop(columns=[\"session_id\",\"track_id\",\"key\", 'time_signature'])\n",
        "ft = pd.get_dummies(ft, drop_first=True)\n",
        "ft.shape"
      ],
      "execution_count": 99,
      "outputs": [
        {
          "output_type": "execute_result",
          "data": {
            "text/plain": [
              "(335760, 58)"
            ]
          },
          "metadata": {
            "tags": []
          },
          "execution_count": 99
        }
      ]
    },
    {
      "cell_type": "code",
      "metadata": {
        "colab": {
          "base_uri": "https://localhost:8080/"
        },
        "id": "F6kRqjHHeRHe",
        "outputId": "bc3ecc21-26a4-4685-c33e-d9506c1671fc"
      },
      "source": [
        "ft.info()"
      ],
      "execution_count": 100,
      "outputs": [
        {
          "output_type": "stream",
          "text": [
            "<class 'pandas.core.frame.DataFrame'>\n",
            "RangeIndex: 335760 entries, 0 to 335759\n",
            "Data columns (total 58 columns):\n",
            " #   Column                                      Non-Null Count   Dtype  \n",
            "---  ------                                      --------------   -----  \n",
            " 0   session_position                            335760 non-null  int64  \n",
            " 1   session_length                              335760 non-null  int64  \n",
            " 2   context_switch                              335760 non-null  int64  \n",
            " 3   no_pause_before_play                        335760 non-null  int64  \n",
            " 4   short_pause_before_play                     335760 non-null  int64  \n",
            " 5   long_pause_before_play                      335760 non-null  int64  \n",
            " 6   hist_user_behavior_n_seekfwd                335760 non-null  int64  \n",
            " 7   hist_user_behavior_n_seekback               335760 non-null  int64  \n",
            " 8   hist_user_behavior_is_shuffle               335760 non-null  int64  \n",
            " 9   hour_of_day                                 335760 non-null  int64  \n",
            " 10  premium                                     335760 non-null  int64  \n",
            " 11  skip                                        335760 non-null  int64  \n",
            " 12  duration                                    335760 non-null  float64\n",
            " 13  release_year                                335760 non-null  int64  \n",
            " 14  us_popularity_estimate                      335760 non-null  float64\n",
            " 15  acousticness                                335760 non-null  float64\n",
            " 16  beat_strength                               335760 non-null  float64\n",
            " 17  bounciness                                  335760 non-null  float64\n",
            " 18  danceability                                335760 non-null  float64\n",
            " 19  dyn_range_mean                              335760 non-null  float64\n",
            " 20  energy                                      335760 non-null  float64\n",
            " 21  flatness                                    335760 non-null  float64\n",
            " 22  instrumentalness                            335760 non-null  float64\n",
            " 23  liveness                                    335760 non-null  float64\n",
            " 24  loudness                                    335760 non-null  float64\n",
            " 25  mechanism                                   335760 non-null  float64\n",
            " 26  mode                                        335760 non-null  int64  \n",
            " 27  organism                                    335760 non-null  float64\n",
            " 28  speechiness                                 335760 non-null  float64\n",
            " 29  tempo                                       335760 non-null  float64\n",
            " 30  valence                                     335760 non-null  float64\n",
            " 31  acoustic_vector_0                           335760 non-null  float64\n",
            " 32  acoustic_vector_1                           335760 non-null  float64\n",
            " 33  acoustic_vector_2                           335760 non-null  float64\n",
            " 34  acoustic_vector_3                           335760 non-null  float64\n",
            " 35  acoustic_vector_4                           335760 non-null  float64\n",
            " 36  acoustic_vector_5                           335760 non-null  float64\n",
            " 37  acoustic_vector_6                           335760 non-null  float64\n",
            " 38  acoustic_vector_7                           335760 non-null  float64\n",
            " 39  context_type_charts                         335760 non-null  uint8  \n",
            " 40  context_type_editorial_playlist             335760 non-null  uint8  \n",
            " 41  context_type_personalized_playlist          335760 non-null  uint8  \n",
            " 42  context_type_radio                          335760 non-null  uint8  \n",
            " 43  context_type_user_collection                335760 non-null  uint8  \n",
            " 44  hist_user_behavior_reason_start_backbtn     335760 non-null  uint8  \n",
            " 45  hist_user_behavior_reason_start_clickrow    335760 non-null  uint8  \n",
            " 46  hist_user_behavior_reason_start_endplay     335760 non-null  uint8  \n",
            " 47  hist_user_behavior_reason_start_fwdbtn      335760 non-null  uint8  \n",
            " 48  hist_user_behavior_reason_start_playbtn     335760 non-null  uint8  \n",
            " 49  hist_user_behavior_reason_start_remote      335760 non-null  uint8  \n",
            " 50  hist_user_behavior_reason_start_trackdone   335760 non-null  uint8  \n",
            " 51  hist_user_behavior_reason_start_trackerror  335760 non-null  uint8  \n",
            " 52  hist_user_behavior_reason_end_clickrow      335760 non-null  uint8  \n",
            " 53  hist_user_behavior_reason_end_endplay       335760 non-null  uint8  \n",
            " 54  hist_user_behavior_reason_end_fwdbtn        335760 non-null  uint8  \n",
            " 55  hist_user_behavior_reason_end_logout        335760 non-null  uint8  \n",
            " 56  hist_user_behavior_reason_end_remote        335760 non-null  uint8  \n",
            " 57  hist_user_behavior_reason_end_trackdone     335760 non-null  uint8  \n",
            "dtypes: float64(25), int64(14), uint8(19)\n",
            "memory usage: 106.0 MB\n"
          ],
          "name": "stdout"
        }
      ]
    },
    {
      "cell_type": "markdown",
      "metadata": {
        "id": "KFXylX4hzTqj"
      },
      "source": [
        "### Modeling with only Training Data "
      ]
    },
    {
      "cell_type": "code",
      "metadata": {
        "colab": {
          "base_uri": "https://localhost:8080/",
          "height": 131
        },
        "id": "WTbPn231d63O",
        "outputId": "069132d0-a1b8-47ef-e211-0b62f95e081a"
      },
      "source": [
        "dummy_train.head(2)"
      ],
      "execution_count": 101,
      "outputs": [
        {
          "output_type": "execute_result",
          "data": {
            "text/html": [
              "<div>\n",
              "<style scoped>\n",
              "    .dataframe tbody tr th:only-of-type {\n",
              "        vertical-align: middle;\n",
              "    }\n",
              "\n",
              "    .dataframe tbody tr th {\n",
              "        vertical-align: top;\n",
              "    }\n",
              "\n",
              "    .dataframe thead th {\n",
              "        text-align: right;\n",
              "    }\n",
              "</style>\n",
              "<table border=\"1\" class=\"dataframe\">\n",
              "  <thead>\n",
              "    <tr style=\"text-align: right;\">\n",
              "      <th></th>\n",
              "      <th>session_position</th>\n",
              "      <th>session_length</th>\n",
              "      <th>context_switch</th>\n",
              "      <th>no_pause_before_play</th>\n",
              "      <th>short_pause_before_play</th>\n",
              "      <th>long_pause_before_play</th>\n",
              "      <th>hist_user_behavior_n_seekfwd</th>\n",
              "      <th>hist_user_behavior_n_seekback</th>\n",
              "      <th>hist_user_behavior_is_shuffle</th>\n",
              "      <th>hour_of_day</th>\n",
              "      <th>premium</th>\n",
              "      <th>skip</th>\n",
              "      <th>context_type_catalog</th>\n",
              "      <th>context_type_charts</th>\n",
              "      <th>context_type_editorial_playlist</th>\n",
              "      <th>context_type_personalized_playlist</th>\n",
              "      <th>context_type_radio</th>\n",
              "      <th>context_type_user_collection</th>\n",
              "      <th>hist_user_behavior_reason_start_appload</th>\n",
              "      <th>hist_user_behavior_reason_start_backbtn</th>\n",
              "      <th>hist_user_behavior_reason_start_clickrow</th>\n",
              "      <th>hist_user_behavior_reason_start_endplay</th>\n",
              "      <th>hist_user_behavior_reason_start_fwdbtn</th>\n",
              "      <th>hist_user_behavior_reason_start_playbtn</th>\n",
              "      <th>hist_user_behavior_reason_start_remote</th>\n",
              "      <th>hist_user_behavior_reason_start_trackdone</th>\n",
              "      <th>hist_user_behavior_reason_start_trackerror</th>\n",
              "      <th>hist_user_behavior_reason_end_backbtn</th>\n",
              "      <th>hist_user_behavior_reason_end_clickrow</th>\n",
              "      <th>hist_user_behavior_reason_end_endplay</th>\n",
              "      <th>hist_user_behavior_reason_end_fwdbtn</th>\n",
              "      <th>hist_user_behavior_reason_end_logout</th>\n",
              "      <th>hist_user_behavior_reason_end_remote</th>\n",
              "      <th>hist_user_behavior_reason_end_trackdone</th>\n",
              "    </tr>\n",
              "  </thead>\n",
              "  <tbody>\n",
              "    <tr>\n",
              "      <th>0</th>\n",
              "      <td>1</td>\n",
              "      <td>20</td>\n",
              "      <td>0</td>\n",
              "      <td>0</td>\n",
              "      <td>0</td>\n",
              "      <td>0</td>\n",
              "      <td>0</td>\n",
              "      <td>0</td>\n",
              "      <td>1</td>\n",
              "      <td>16</td>\n",
              "      <td>1</td>\n",
              "      <td>0</td>\n",
              "      <td>0</td>\n",
              "      <td>0</td>\n",
              "      <td>1</td>\n",
              "      <td>0</td>\n",
              "      <td>0</td>\n",
              "      <td>0</td>\n",
              "      <td>0</td>\n",
              "      <td>0</td>\n",
              "      <td>0</td>\n",
              "      <td>0</td>\n",
              "      <td>0</td>\n",
              "      <td>0</td>\n",
              "      <td>0</td>\n",
              "      <td>1</td>\n",
              "      <td>0</td>\n",
              "      <td>0</td>\n",
              "      <td>0</td>\n",
              "      <td>0</td>\n",
              "      <td>0</td>\n",
              "      <td>0</td>\n",
              "      <td>0</td>\n",
              "      <td>1</td>\n",
              "    </tr>\n",
              "    <tr>\n",
              "      <th>1</th>\n",
              "      <td>2</td>\n",
              "      <td>20</td>\n",
              "      <td>0</td>\n",
              "      <td>1</td>\n",
              "      <td>0</td>\n",
              "      <td>0</td>\n",
              "      <td>0</td>\n",
              "      <td>0</td>\n",
              "      <td>1</td>\n",
              "      <td>16</td>\n",
              "      <td>1</td>\n",
              "      <td>0</td>\n",
              "      <td>0</td>\n",
              "      <td>0</td>\n",
              "      <td>1</td>\n",
              "      <td>0</td>\n",
              "      <td>0</td>\n",
              "      <td>0</td>\n",
              "      <td>0</td>\n",
              "      <td>0</td>\n",
              "      <td>0</td>\n",
              "      <td>0</td>\n",
              "      <td>0</td>\n",
              "      <td>0</td>\n",
              "      <td>0</td>\n",
              "      <td>1</td>\n",
              "      <td>0</td>\n",
              "      <td>0</td>\n",
              "      <td>0</td>\n",
              "      <td>0</td>\n",
              "      <td>0</td>\n",
              "      <td>0</td>\n",
              "      <td>0</td>\n",
              "      <td>1</td>\n",
              "    </tr>\n",
              "  </tbody>\n",
              "</table>\n",
              "</div>"
            ],
            "text/plain": [
              "   session_position  ...  hist_user_behavior_reason_end_trackdone\n",
              "0                 1  ...                                        1\n",
              "1                 2  ...                                        1\n",
              "\n",
              "[2 rows x 34 columns]"
            ]
          },
          "metadata": {
            "tags": []
          },
          "execution_count": 101
        }
      ]
    },
    {
      "cell_type": "code",
      "metadata": {
        "colab": {
          "base_uri": "https://localhost:8080/"
        },
        "id": "iahgWVAelWB3",
        "outputId": "eed6b8e5-68b1-4d6a-f1c0-2589da2736a2"
      },
      "source": [
        "dummy_train.shape"
      ],
      "execution_count": 102,
      "outputs": [
        {
          "output_type": "execute_result",
          "data": {
            "text/plain": [
              "(167880, 34)"
            ]
          },
          "metadata": {
            "tags": []
          },
          "execution_count": 102
        }
      ]
    },
    {
      "cell_type": "markdown",
      "metadata": {
        "id": "Ic6MkKN9zTqk"
      },
      "source": [
        "### Train Test Split "
      ]
    },
    {
      "cell_type": "code",
      "metadata": {
        "colab": {
          "base_uri": "https://localhost:8080/"
        },
        "id": "rON7kFs6eE4U",
        "outputId": "f9d75f68-ae77-4965-87cc-1818f1e8808f"
      },
      "source": [
        "X = dummy_train.drop(columns=[\"skip\"])\n",
        "y = dummy_train.skip\n",
        "\n",
        "X_resampled, Y_resampled = SMOTE(sampling_strategy=1.0, random_state=2).fit_sample(X, y)"
      ],
      "execution_count": 103,
      "outputs": [
        {
          "output_type": "stream",
          "text": [
            "/usr/local/lib/python3.6/dist-packages/sklearn/utils/deprecation.py:87: FutureWarning: Function safe_indexing is deprecated; safe_indexing is deprecated in version 0.22 and will be removed in version 0.24.\n",
            "  warnings.warn(msg, category=FutureWarning)\n"
          ],
          "name": "stderr"
        }
      ]
    },
    {
      "cell_type": "code",
      "metadata": {
        "id": "4naS5O4d40nn"
      },
      "source": [
        "X_train, X_test, y_train, y_test = train_test_split(\n",
        "    X_resampled, Y_resampled,\n",
        "    test_size=0.2,\n",
        "    random_state=2\n",
        ")\n",
        "X_train, X_val, y_train, y_val = train_test_split(\n",
        "    X_train,\n",
        "    y_train,\n",
        "    test_size=0.2,\n",
        "    random_state=2\n",
        ")   "
      ],
      "execution_count": 104,
      "outputs": []
    },
    {
      "cell_type": "markdown",
      "metadata": {
        "id": "qR7tzCX0zTqk"
      },
      "source": [
        "### Standardsing Data"
      ]
    },
    {
      "cell_type": "code",
      "metadata": {
        "colab": {
          "base_uri": "https://localhost:8080/"
        },
        "id": "R0G3fU5MeFEZ",
        "outputId": "4ae68df5-7865-49c0-b3a3-2f1ae38a0dfc"
      },
      "source": [
        "scaler = StandardScaler()\n",
        "sX_train = scaler.fit_transform(X_train)\n",
        "sX_val = scaler.transform(X_val)\n",
        "sX_test = scaler.transform(X_test)\n",
        "\n",
        "\n",
        "# Applying LOgistic Regression\n",
        "log = LogisticRegressionCV(\n",
        "    cv=3\n",
        ").fit(\n",
        "    sX_train,\n",
        "    y_train\n",
        ")\n",
        "\n",
        "print(\"Log Train score: %s\" % log.score(sX_train,y_train))\n",
        "print(\"Log Val score:   %s\" % log.score(sX_val,y_val))\n",
        "print(\"Log Test score:  %s\" % log.score(sX_test,y_test))"
      ],
      "execution_count": 105,
      "outputs": [
        {
          "output_type": "stream",
          "text": [
            "/usr/local/lib/python3.6/dist-packages/sklearn/linear_model/_logistic.py:940: ConvergenceWarning: lbfgs failed to converge (status=1):\n",
            "STOP: TOTAL NO. of ITERATIONS REACHED LIMIT.\n",
            "\n",
            "Increase the number of iterations (max_iter) or scale the data as shown in:\n",
            "    https://scikit-learn.org/stable/modules/preprocessing.html\n",
            "Please also refer to the documentation for alternative solver options:\n",
            "    https://scikit-learn.org/stable/modules/linear_model.html#logistic-regression\n",
            "  extra_warning_msg=_LOGISTIC_SOLVER_CONVERGENCE_MSG)\n",
            "/usr/local/lib/python3.6/dist-packages/sklearn/linear_model/_logistic.py:940: ConvergenceWarning: lbfgs failed to converge (status=1):\n",
            "STOP: TOTAL NO. of ITERATIONS REACHED LIMIT.\n",
            "\n",
            "Increase the number of iterations (max_iter) or scale the data as shown in:\n",
            "    https://scikit-learn.org/stable/modules/preprocessing.html\n",
            "Please also refer to the documentation for alternative solver options:\n",
            "    https://scikit-learn.org/stable/modules/linear_model.html#logistic-regression\n",
            "  extra_warning_msg=_LOGISTIC_SOLVER_CONVERGENCE_MSG)\n",
            "/usr/local/lib/python3.6/dist-packages/sklearn/linear_model/_logistic.py:940: ConvergenceWarning: lbfgs failed to converge (status=1):\n",
            "STOP: TOTAL NO. of ITERATIONS REACHED LIMIT.\n",
            "\n",
            "Increase the number of iterations (max_iter) or scale the data as shown in:\n",
            "    https://scikit-learn.org/stable/modules/preprocessing.html\n",
            "Please also refer to the documentation for alternative solver options:\n",
            "    https://scikit-learn.org/stable/modules/linear_model.html#logistic-regression\n",
            "  extra_warning_msg=_LOGISTIC_SOLVER_CONVERGENCE_MSG)\n"
          ],
          "name": "stderr"
        },
        {
          "output_type": "stream",
          "text": [
            "Log Train score: 0.9905129958006055\n",
            "Log Val score:   0.9891459025084405\n",
            "Log Test score:  0.9895533382441573\n"
          ],
          "name": "stdout"
        }
      ]
    },
    {
      "cell_type": "markdown",
      "metadata": {
        "id": "EpXWtOP7zTql"
      },
      "source": [
        "###  Applying Random Forest"
      ]
    },
    {
      "cell_type": "code",
      "metadata": {
        "colab": {
          "base_uri": "https://localhost:8080/"
        },
        "id": "MIq7Td9aeFHv",
        "outputId": "b5e6032c-7572-40bf-8ea0-4a6db760d493"
      },
      "source": [
        "rfc = RandomForestClassifier(\n",
        "    n_estimators=100\n",
        ").fit(\n",
        "    X_train,\n",
        "    y_train\n",
        ")\n",
        "\n",
        "print(\"RFC Train score: %s\" % rfc.score(X_train,y_train))\n",
        "print(\"RFC Val score:   %s\" % rfc.score(X_val,y_val))\n",
        "print(\"RFC Test score:  %s\" % rfc.score(X_test,y_test))"
      ],
      "execution_count": 106,
      "outputs": [
        {
          "output_type": "stream",
          "text": [
            "RFC Train score: 0.9974120010603122\n",
            "RFC Val score:   0.989676051229108\n",
            "RFC Test score:  0.9900220987075604\n"
          ],
          "name": "stdout"
        }
      ]
    },
    {
      "cell_type": "markdown",
      "metadata": {
        "id": "qjuP_7PNeFLx"
      },
      "source": [
        "### Feature selection with Boruta "
      ]
    },
    {
      "cell_type": "code",
      "metadata": {
        "colab": {
          "base_uri": "https://localhost:8080/"
        },
        "id": "Pg7ZyezMqZtt",
        "outputId": "d232a8ec-ff00-4a16-9b7c-4fbe6eb0ef20"
      },
      "source": [
        "!pip install boruta\n",
        "from boruta import BorutaPy"
      ],
      "execution_count": 107,
      "outputs": [
        {
          "output_type": "stream",
          "text": [
            "Requirement already satisfied: boruta in /usr/local/lib/python3.6/dist-packages (0.3)\n",
            "Requirement already satisfied: scikit-learn>=0.17.1 in /usr/local/lib/python3.6/dist-packages (from boruta) (0.22.2.post1)\n",
            "Requirement already satisfied: numpy>=1.10.4 in /usr/local/lib/python3.6/dist-packages (from boruta) (1.19.5)\n",
            "Requirement already satisfied: scipy>=0.17.0 in /usr/local/lib/python3.6/dist-packages (from boruta) (1.4.1)\n",
            "Requirement already satisfied: joblib>=0.11 in /usr/local/lib/python3.6/dist-packages (from scikit-learn>=0.17.1->boruta) (1.0.0)\n"
          ],
          "name": "stdout"
        }
      ]
    },
    {
      "cell_type": "code",
      "metadata": {
        "colab": {
          "base_uri": "https://localhost:8080/"
        },
        "id": "GE8xxY32eFO-",
        "outputId": "ff00f0be-a5ff-40de-f313-f3eee19e8962"
      },
      "source": [
        "rf = RandomForestClassifier(random_state=1, n_estimators=100, max_depth=5)\n",
        "boruta_selector = BorutaPy(rf, n_estimators='auto', verbose=2, random_state=1)   # initialize the boruta selector\n",
        "boruta_selector.fit(np.array(sX_train), np.array(y_train))  "
      ],
      "execution_count": 108,
      "outputs": [
        {
          "output_type": "stream",
          "text": [
            "Iteration: \t1 / 100\n",
            "Confirmed: \t0\n",
            "Tentative: \t33\n",
            "Rejected: \t0\n",
            "Iteration: \t2 / 100\n",
            "Confirmed: \t0\n",
            "Tentative: \t33\n",
            "Rejected: \t0\n",
            "Iteration: \t3 / 100\n",
            "Confirmed: \t0\n",
            "Tentative: \t33\n",
            "Rejected: \t0\n",
            "Iteration: \t4 / 100\n",
            "Confirmed: \t0\n",
            "Tentative: \t33\n",
            "Rejected: \t0\n",
            "Iteration: \t5 / 100\n",
            "Confirmed: \t0\n",
            "Tentative: \t33\n",
            "Rejected: \t0\n",
            "Iteration: \t6 / 100\n",
            "Confirmed: \t0\n",
            "Tentative: \t33\n",
            "Rejected: \t0\n",
            "Iteration: \t7 / 100\n",
            "Confirmed: \t0\n",
            "Tentative: \t33\n",
            "Rejected: \t0\n",
            "Iteration: \t8 / 100\n",
            "Confirmed: \t28\n",
            "Tentative: \t1\n",
            "Rejected: \t4\n",
            "Iteration: \t9 / 100\n",
            "Confirmed: \t28\n",
            "Tentative: \t1\n",
            "Rejected: \t4\n",
            "Iteration: \t10 / 100\n",
            "Confirmed: \t28\n",
            "Tentative: \t1\n",
            "Rejected: \t4\n",
            "Iteration: \t11 / 100\n",
            "Confirmed: \t28\n",
            "Tentative: \t1\n",
            "Rejected: \t4\n",
            "Iteration: \t12 / 100\n",
            "Confirmed: \t28\n",
            "Tentative: \t1\n",
            "Rejected: \t4\n",
            "Iteration: \t13 / 100\n",
            "Confirmed: \t28\n",
            "Tentative: \t1\n",
            "Rejected: \t4\n",
            "Iteration: \t14 / 100\n",
            "Confirmed: \t28\n",
            "Tentative: \t1\n",
            "Rejected: \t4\n",
            "Iteration: \t15 / 100\n",
            "Confirmed: \t28\n",
            "Tentative: \t1\n",
            "Rejected: \t4\n",
            "Iteration: \t16 / 100\n",
            "Confirmed: \t28\n",
            "Tentative: \t1\n",
            "Rejected: \t4\n",
            "Iteration: \t17 / 100\n",
            "Confirmed: \t28\n",
            "Tentative: \t1\n",
            "Rejected: \t4\n",
            "Iteration: \t18 / 100\n",
            "Confirmed: \t28\n",
            "Tentative: \t1\n",
            "Rejected: \t4\n",
            "Iteration: \t19 / 100\n",
            "Confirmed: \t28\n",
            "Tentative: \t1\n",
            "Rejected: \t4\n",
            "Iteration: \t20 / 100\n",
            "Confirmed: \t28\n",
            "Tentative: \t1\n",
            "Rejected: \t4\n",
            "Iteration: \t21 / 100\n",
            "Confirmed: \t28\n",
            "Tentative: \t1\n",
            "Rejected: \t4\n",
            "Iteration: \t22 / 100\n",
            "Confirmed: \t28\n",
            "Tentative: \t1\n",
            "Rejected: \t4\n",
            "Iteration: \t23 / 100\n",
            "Confirmed: \t28\n",
            "Tentative: \t1\n",
            "Rejected: \t4\n",
            "Iteration: \t24 / 100\n",
            "Confirmed: \t28\n",
            "Tentative: \t1\n",
            "Rejected: \t4\n",
            "Iteration: \t25 / 100\n",
            "Confirmed: \t28\n",
            "Tentative: \t1\n",
            "Rejected: \t4\n",
            "Iteration: \t26 / 100\n",
            "Confirmed: \t28\n",
            "Tentative: \t1\n",
            "Rejected: \t4\n",
            "Iteration: \t27 / 100\n",
            "Confirmed: \t28\n",
            "Tentative: \t1\n",
            "Rejected: \t4\n",
            "Iteration: \t28 / 100\n",
            "Confirmed: \t28\n",
            "Tentative: \t1\n",
            "Rejected: \t4\n",
            "Iteration: \t29 / 100\n",
            "Confirmed: \t28\n",
            "Tentative: \t1\n",
            "Rejected: \t4\n",
            "Iteration: \t30 / 100\n",
            "Confirmed: \t28\n",
            "Tentative: \t1\n",
            "Rejected: \t4\n",
            "Iteration: \t31 / 100\n",
            "Confirmed: \t28\n",
            "Tentative: \t1\n",
            "Rejected: \t4\n",
            "Iteration: \t32 / 100\n",
            "Confirmed: \t28\n",
            "Tentative: \t1\n",
            "Rejected: \t4\n",
            "Iteration: \t33 / 100\n",
            "Confirmed: \t28\n",
            "Tentative: \t1\n",
            "Rejected: \t4\n",
            "Iteration: \t34 / 100\n",
            "Confirmed: \t28\n",
            "Tentative: \t1\n",
            "Rejected: \t4\n",
            "Iteration: \t35 / 100\n",
            "Confirmed: \t28\n",
            "Tentative: \t1\n",
            "Rejected: \t4\n",
            "Iteration: \t36 / 100\n",
            "Confirmed: \t28\n",
            "Tentative: \t1\n",
            "Rejected: \t4\n",
            "Iteration: \t37 / 100\n",
            "Confirmed: \t28\n",
            "Tentative: \t1\n",
            "Rejected: \t4\n",
            "Iteration: \t38 / 100\n",
            "Confirmed: \t28\n",
            "Tentative: \t1\n",
            "Rejected: \t4\n",
            "Iteration: \t39 / 100\n",
            "Confirmed: \t28\n",
            "Tentative: \t1\n",
            "Rejected: \t4\n",
            "Iteration: \t40 / 100\n",
            "Confirmed: \t28\n",
            "Tentative: \t1\n",
            "Rejected: \t4\n",
            "Iteration: \t41 / 100\n",
            "Confirmed: \t28\n",
            "Tentative: \t1\n",
            "Rejected: \t4\n",
            "Iteration: \t42 / 100\n",
            "Confirmed: \t28\n",
            "Tentative: \t1\n",
            "Rejected: \t4\n",
            "Iteration: \t43 / 100\n",
            "Confirmed: \t28\n",
            "Tentative: \t1\n",
            "Rejected: \t4\n",
            "Iteration: \t44 / 100\n",
            "Confirmed: \t28\n",
            "Tentative: \t1\n",
            "Rejected: \t4\n",
            "Iteration: \t45 / 100\n",
            "Confirmed: \t28\n",
            "Tentative: \t1\n",
            "Rejected: \t4\n",
            "Iteration: \t46 / 100\n",
            "Confirmed: \t28\n",
            "Tentative: \t1\n",
            "Rejected: \t4\n",
            "Iteration: \t47 / 100\n",
            "Confirmed: \t28\n",
            "Tentative: \t1\n",
            "Rejected: \t4\n",
            "Iteration: \t48 / 100\n",
            "Confirmed: \t28\n",
            "Tentative: \t1\n",
            "Rejected: \t4\n",
            "Iteration: \t49 / 100\n",
            "Confirmed: \t28\n",
            "Tentative: \t1\n",
            "Rejected: \t4\n",
            "Iteration: \t50 / 100\n",
            "Confirmed: \t28\n",
            "Tentative: \t1\n",
            "Rejected: \t4\n",
            "Iteration: \t51 / 100\n",
            "Confirmed: \t28\n",
            "Tentative: \t1\n",
            "Rejected: \t4\n",
            "Iteration: \t52 / 100\n",
            "Confirmed: \t28\n",
            "Tentative: \t1\n",
            "Rejected: \t4\n",
            "Iteration: \t53 / 100\n",
            "Confirmed: \t28\n",
            "Tentative: \t1\n",
            "Rejected: \t4\n",
            "Iteration: \t54 / 100\n",
            "Confirmed: \t28\n",
            "Tentative: \t1\n",
            "Rejected: \t4\n",
            "Iteration: \t55 / 100\n",
            "Confirmed: \t28\n",
            "Tentative: \t1\n",
            "Rejected: \t4\n",
            "Iteration: \t56 / 100\n",
            "Confirmed: \t28\n",
            "Tentative: \t1\n",
            "Rejected: \t4\n",
            "Iteration: \t57 / 100\n",
            "Confirmed: \t28\n",
            "Tentative: \t1\n",
            "Rejected: \t4\n",
            "Iteration: \t58 / 100\n",
            "Confirmed: \t28\n",
            "Tentative: \t1\n",
            "Rejected: \t4\n",
            "Iteration: \t59 / 100\n",
            "Confirmed: \t28\n",
            "Tentative: \t1\n",
            "Rejected: \t4\n",
            "Iteration: \t60 / 100\n",
            "Confirmed: \t28\n",
            "Tentative: \t1\n",
            "Rejected: \t4\n",
            "Iteration: \t61 / 100\n",
            "Confirmed: \t28\n",
            "Tentative: \t1\n",
            "Rejected: \t4\n",
            "Iteration: \t62 / 100\n",
            "Confirmed: \t28\n",
            "Tentative: \t1\n",
            "Rejected: \t4\n",
            "Iteration: \t63 / 100\n",
            "Confirmed: \t28\n",
            "Tentative: \t1\n",
            "Rejected: \t4\n",
            "Iteration: \t64 / 100\n",
            "Confirmed: \t28\n",
            "Tentative: \t1\n",
            "Rejected: \t4\n",
            "Iteration: \t65 / 100\n",
            "Confirmed: \t28\n",
            "Tentative: \t1\n",
            "Rejected: \t4\n",
            "Iteration: \t66 / 100\n",
            "Confirmed: \t28\n",
            "Tentative: \t1\n",
            "Rejected: \t4\n",
            "Iteration: \t67 / 100\n",
            "Confirmed: \t28\n",
            "Tentative: \t1\n",
            "Rejected: \t4\n",
            "Iteration: \t68 / 100\n",
            "Confirmed: \t28\n",
            "Tentative: \t1\n",
            "Rejected: \t4\n",
            "Iteration: \t69 / 100\n",
            "Confirmed: \t28\n",
            "Tentative: \t1\n",
            "Rejected: \t4\n",
            "Iteration: \t70 / 100\n",
            "Confirmed: \t28\n",
            "Tentative: \t1\n",
            "Rejected: \t4\n",
            "Iteration: \t71 / 100\n",
            "Confirmed: \t28\n",
            "Tentative: \t1\n",
            "Rejected: \t4\n",
            "Iteration: \t72 / 100\n",
            "Confirmed: \t28\n",
            "Tentative: \t1\n",
            "Rejected: \t4\n",
            "Iteration: \t73 / 100\n",
            "Confirmed: \t28\n",
            "Tentative: \t1\n",
            "Rejected: \t4\n",
            "Iteration: \t74 / 100\n",
            "Confirmed: \t28\n",
            "Tentative: \t1\n",
            "Rejected: \t4\n",
            "Iteration: \t75 / 100\n",
            "Confirmed: \t28\n",
            "Tentative: \t1\n",
            "Rejected: \t4\n",
            "Iteration: \t76 / 100\n",
            "Confirmed: \t28\n",
            "Tentative: \t1\n",
            "Rejected: \t4\n",
            "Iteration: \t77 / 100\n",
            "Confirmed: \t28\n",
            "Tentative: \t1\n",
            "Rejected: \t4\n",
            "Iteration: \t78 / 100\n",
            "Confirmed: \t28\n",
            "Tentative: \t1\n",
            "Rejected: \t4\n",
            "Iteration: \t79 / 100\n",
            "Confirmed: \t28\n",
            "Tentative: \t1\n",
            "Rejected: \t4\n",
            "Iteration: \t80 / 100\n",
            "Confirmed: \t28\n",
            "Tentative: \t1\n",
            "Rejected: \t4\n",
            "Iteration: \t81 / 100\n",
            "Confirmed: \t28\n",
            "Tentative: \t1\n",
            "Rejected: \t4\n",
            "Iteration: \t82 / 100\n",
            "Confirmed: \t28\n",
            "Tentative: \t1\n",
            "Rejected: \t4\n",
            "Iteration: \t83 / 100\n",
            "Confirmed: \t28\n",
            "Tentative: \t1\n",
            "Rejected: \t4\n",
            "Iteration: \t84 / 100\n",
            "Confirmed: \t28\n",
            "Tentative: \t1\n",
            "Rejected: \t4\n",
            "Iteration: \t85 / 100\n",
            "Confirmed: \t28\n",
            "Tentative: \t1\n",
            "Rejected: \t4\n",
            "Iteration: \t86 / 100\n",
            "Confirmed: \t28\n",
            "Tentative: \t1\n",
            "Rejected: \t4\n",
            "Iteration: \t87 / 100\n",
            "Confirmed: \t28\n",
            "Tentative: \t1\n",
            "Rejected: \t4\n",
            "Iteration: \t88 / 100\n",
            "Confirmed: \t28\n",
            "Tentative: \t1\n",
            "Rejected: \t4\n",
            "Iteration: \t89 / 100\n",
            "Confirmed: \t28\n",
            "Tentative: \t1\n",
            "Rejected: \t4\n",
            "Iteration: \t90 / 100\n",
            "Confirmed: \t28\n",
            "Tentative: \t1\n",
            "Rejected: \t4\n",
            "Iteration: \t91 / 100\n",
            "Confirmed: \t28\n",
            "Tentative: \t1\n",
            "Rejected: \t4\n",
            "Iteration: \t92 / 100\n",
            "Confirmed: \t28\n",
            "Tentative: \t1\n",
            "Rejected: \t4\n",
            "Iteration: \t93 / 100\n",
            "Confirmed: \t28\n",
            "Tentative: \t1\n",
            "Rejected: \t4\n",
            "Iteration: \t94 / 100\n",
            "Confirmed: \t28\n",
            "Tentative: \t1\n",
            "Rejected: \t4\n",
            "Iteration: \t95 / 100\n",
            "Confirmed: \t28\n",
            "Tentative: \t1\n",
            "Rejected: \t4\n",
            "Iteration: \t96 / 100\n",
            "Confirmed: \t28\n",
            "Tentative: \t1\n",
            "Rejected: \t4\n",
            "Iteration: \t97 / 100\n",
            "Confirmed: \t28\n",
            "Tentative: \t1\n",
            "Rejected: \t4\n",
            "Iteration: \t98 / 100\n",
            "Confirmed: \t28\n",
            "Tentative: \t1\n",
            "Rejected: \t4\n",
            "Iteration: \t99 / 100\n",
            "Confirmed: \t28\n",
            "Tentative: \t1\n",
            "Rejected: \t4\n",
            "\n",
            "\n",
            "BorutaPy finished running.\n",
            "\n",
            "Iteration: \t100 / 100\n",
            "Confirmed: \t28\n",
            "Tentative: \t0\n",
            "Rejected: \t4\n"
          ],
          "name": "stdout"
        },
        {
          "output_type": "execute_result",
          "data": {
            "text/plain": [
              "BorutaPy(alpha=0.05,\n",
              "         estimator=RandomForestClassifier(bootstrap=True, ccp_alpha=0.0,\n",
              "                                          class_weight=None, criterion='gini',\n",
              "                                          max_depth=5, max_features='auto',\n",
              "                                          max_leaf_nodes=None, max_samples=None,\n",
              "                                          min_impurity_decrease=0.0,\n",
              "                                          min_impurity_split=None,\n",
              "                                          min_samples_leaf=1,\n",
              "                                          min_samples_split=2,\n",
              "                                          min_weight_fraction_leaf=0.0,\n",
              "                                          n_estimators=152, n_jobs=None,\n",
              "                                          oob_score=False,\n",
              "                                          random_state=RandomState(MT19937) at 0x7F43705BFDB0,\n",
              "                                          verbose=0, warm_start=False),\n",
              "         max_iter=100, n_estimators='auto', perc=100,\n",
              "         random_state=RandomState(MT19937) at 0x7F43705BFDB0, two_step=True,\n",
              "         verbose=2)"
            ]
          },
          "metadata": {
            "tags": []
          },
          "execution_count": 108
        }
      ]
    },
    {
      "cell_type": "code",
      "metadata": {
        "colab": {
          "base_uri": "https://localhost:8080/"
        },
        "id": "x2u3yWh8eFSY",
        "outputId": "0e79a4e2-e30c-4f47-9ffd-37dd6e659cf7"
      },
      "source": [
        "print(\"Selected Features: \", boruta_selector.support_)    # check selected features\n",
        "print(\"Ranking: \",boruta_selector.ranking_)               # check ranking of features\n",
        "print(\"No. of significant features: \", boruta_selector.n_features_)"
      ],
      "execution_count": 116,
      "outputs": [
        {
          "output_type": "stream",
          "text": [
            "Selected Features:  [ True  True  True  True  True  True  True  True  True  True  True  True\n",
            "  True  True False  True  True  True  True  True False  True False  True\n",
            "  True False  True False  True  True  True  True  True]\n",
            "Ranking:  [1 1 1 1 1 1 1 1 1 1 1 1 1 1 2 1 1 1 1 1 3 1 4 1 1 5 1 6 1 1 1 1 1]\n",
            "No. of significant features:  28\n"
          ],
          "name": "stdout"
        }
      ]
    },
    {
      "cell_type": "code",
      "metadata": {
        "colab": {
          "base_uri": "https://localhost:8080/",
          "height": 1000
        },
        "id": "HAabqyeoeFVV",
        "outputId": "033c721d-999f-47fd-fb76-350652b87ee1"
      },
      "source": [
        "selected_rf_features = pd.DataFrame({'Feature':list(X.columns),\n",
        "                                      'Ranking':boruta_selector.ranking_})\n",
        "selected_rf_features.sort_values(by='Ranking')"
      ],
      "execution_count": 117,
      "outputs": [
        {
          "output_type": "execute_result",
          "data": {
            "text/html": [
              "<div>\n",
              "<style scoped>\n",
              "    .dataframe tbody tr th:only-of-type {\n",
              "        vertical-align: middle;\n",
              "    }\n",
              "\n",
              "    .dataframe tbody tr th {\n",
              "        vertical-align: top;\n",
              "    }\n",
              "\n",
              "    .dataframe thead th {\n",
              "        text-align: right;\n",
              "    }\n",
              "</style>\n",
              "<table border=\"1\" class=\"dataframe\">\n",
              "  <thead>\n",
              "    <tr style=\"text-align: right;\">\n",
              "      <th></th>\n",
              "      <th>Feature</th>\n",
              "      <th>Ranking</th>\n",
              "    </tr>\n",
              "  </thead>\n",
              "  <tbody>\n",
              "    <tr>\n",
              "      <th>0</th>\n",
              "      <td>session_position</td>\n",
              "      <td>1</td>\n",
              "    </tr>\n",
              "    <tr>\n",
              "      <th>30</th>\n",
              "      <td>hist_user_behavior_reason_end_logout</td>\n",
              "      <td>1</td>\n",
              "    </tr>\n",
              "    <tr>\n",
              "      <th>29</th>\n",
              "      <td>hist_user_behavior_reason_end_fwdbtn</td>\n",
              "      <td>1</td>\n",
              "    </tr>\n",
              "    <tr>\n",
              "      <th>28</th>\n",
              "      <td>hist_user_behavior_reason_end_endplay</td>\n",
              "      <td>1</td>\n",
              "    </tr>\n",
              "    <tr>\n",
              "      <th>26</th>\n",
              "      <td>hist_user_behavior_reason_end_backbtn</td>\n",
              "      <td>1</td>\n",
              "    </tr>\n",
              "    <tr>\n",
              "      <th>24</th>\n",
              "      <td>hist_user_behavior_reason_start_trackdone</td>\n",
              "      <td>1</td>\n",
              "    </tr>\n",
              "    <tr>\n",
              "      <th>23</th>\n",
              "      <td>hist_user_behavior_reason_start_remote</td>\n",
              "      <td>1</td>\n",
              "    </tr>\n",
              "    <tr>\n",
              "      <th>21</th>\n",
              "      <td>hist_user_behavior_reason_start_fwdbtn</td>\n",
              "      <td>1</td>\n",
              "    </tr>\n",
              "    <tr>\n",
              "      <th>19</th>\n",
              "      <td>hist_user_behavior_reason_start_clickrow</td>\n",
              "      <td>1</td>\n",
              "    </tr>\n",
              "    <tr>\n",
              "      <th>18</th>\n",
              "      <td>hist_user_behavior_reason_start_backbtn</td>\n",
              "      <td>1</td>\n",
              "    </tr>\n",
              "    <tr>\n",
              "      <th>17</th>\n",
              "      <td>hist_user_behavior_reason_start_appload</td>\n",
              "      <td>1</td>\n",
              "    </tr>\n",
              "    <tr>\n",
              "      <th>31</th>\n",
              "      <td>hist_user_behavior_reason_end_remote</td>\n",
              "      <td>1</td>\n",
              "    </tr>\n",
              "    <tr>\n",
              "      <th>15</th>\n",
              "      <td>context_type_radio</td>\n",
              "      <td>1</td>\n",
              "    </tr>\n",
              "    <tr>\n",
              "      <th>16</th>\n",
              "      <td>context_type_user_collection</td>\n",
              "      <td>1</td>\n",
              "    </tr>\n",
              "    <tr>\n",
              "      <th>6</th>\n",
              "      <td>hist_user_behavior_n_seekfwd</td>\n",
              "      <td>1</td>\n",
              "    </tr>\n",
              "    <tr>\n",
              "      <th>1</th>\n",
              "      <td>session_length</td>\n",
              "      <td>1</td>\n",
              "    </tr>\n",
              "    <tr>\n",
              "      <th>2</th>\n",
              "      <td>context_switch</td>\n",
              "      <td>1</td>\n",
              "    </tr>\n",
              "    <tr>\n",
              "      <th>3</th>\n",
              "      <td>no_pause_before_play</td>\n",
              "      <td>1</td>\n",
              "    </tr>\n",
              "    <tr>\n",
              "      <th>4</th>\n",
              "      <td>short_pause_before_play</td>\n",
              "      <td>1</td>\n",
              "    </tr>\n",
              "    <tr>\n",
              "      <th>5</th>\n",
              "      <td>long_pause_before_play</td>\n",
              "      <td>1</td>\n",
              "    </tr>\n",
              "    <tr>\n",
              "      <th>13</th>\n",
              "      <td>context_type_editorial_playlist</td>\n",
              "      <td>1</td>\n",
              "    </tr>\n",
              "    <tr>\n",
              "      <th>32</th>\n",
              "      <td>hist_user_behavior_reason_end_trackdone</td>\n",
              "      <td>1</td>\n",
              "    </tr>\n",
              "    <tr>\n",
              "      <th>8</th>\n",
              "      <td>hist_user_behavior_is_shuffle</td>\n",
              "      <td>1</td>\n",
              "    </tr>\n",
              "    <tr>\n",
              "      <th>9</th>\n",
              "      <td>hour_of_day</td>\n",
              "      <td>1</td>\n",
              "    </tr>\n",
              "    <tr>\n",
              "      <th>10</th>\n",
              "      <td>premium</td>\n",
              "      <td>1</td>\n",
              "    </tr>\n",
              "    <tr>\n",
              "      <th>11</th>\n",
              "      <td>context_type_catalog</td>\n",
              "      <td>1</td>\n",
              "    </tr>\n",
              "    <tr>\n",
              "      <th>12</th>\n",
              "      <td>context_type_charts</td>\n",
              "      <td>1</td>\n",
              "    </tr>\n",
              "    <tr>\n",
              "      <th>7</th>\n",
              "      <td>hist_user_behavior_n_seekback</td>\n",
              "      <td>1</td>\n",
              "    </tr>\n",
              "    <tr>\n",
              "      <th>14</th>\n",
              "      <td>context_type_personalized_playlist</td>\n",
              "      <td>2</td>\n",
              "    </tr>\n",
              "    <tr>\n",
              "      <th>20</th>\n",
              "      <td>hist_user_behavior_reason_start_endplay</td>\n",
              "      <td>3</td>\n",
              "    </tr>\n",
              "    <tr>\n",
              "      <th>22</th>\n",
              "      <td>hist_user_behavior_reason_start_playbtn</td>\n",
              "      <td>4</td>\n",
              "    </tr>\n",
              "    <tr>\n",
              "      <th>25</th>\n",
              "      <td>hist_user_behavior_reason_start_trackerror</td>\n",
              "      <td>5</td>\n",
              "    </tr>\n",
              "    <tr>\n",
              "      <th>27</th>\n",
              "      <td>hist_user_behavior_reason_end_clickrow</td>\n",
              "      <td>6</td>\n",
              "    </tr>\n",
              "  </tbody>\n",
              "</table>\n",
              "</div>"
            ],
            "text/plain": [
              "                                       Feature  Ranking\n",
              "0                             session_position        1\n",
              "30        hist_user_behavior_reason_end_logout        1\n",
              "29        hist_user_behavior_reason_end_fwdbtn        1\n",
              "28       hist_user_behavior_reason_end_endplay        1\n",
              "26       hist_user_behavior_reason_end_backbtn        1\n",
              "24   hist_user_behavior_reason_start_trackdone        1\n",
              "23      hist_user_behavior_reason_start_remote        1\n",
              "21      hist_user_behavior_reason_start_fwdbtn        1\n",
              "19    hist_user_behavior_reason_start_clickrow        1\n",
              "18     hist_user_behavior_reason_start_backbtn        1\n",
              "17     hist_user_behavior_reason_start_appload        1\n",
              "31        hist_user_behavior_reason_end_remote        1\n",
              "15                          context_type_radio        1\n",
              "16                context_type_user_collection        1\n",
              "6                 hist_user_behavior_n_seekfwd        1\n",
              "1                               session_length        1\n",
              "2                               context_switch        1\n",
              "3                         no_pause_before_play        1\n",
              "4                      short_pause_before_play        1\n",
              "5                       long_pause_before_play        1\n",
              "13             context_type_editorial_playlist        1\n",
              "32     hist_user_behavior_reason_end_trackdone        1\n",
              "8                hist_user_behavior_is_shuffle        1\n",
              "9                                  hour_of_day        1\n",
              "10                                     premium        1\n",
              "11                        context_type_catalog        1\n",
              "12                         context_type_charts        1\n",
              "7                hist_user_behavior_n_seekback        1\n",
              "14          context_type_personalized_playlist        2\n",
              "20     hist_user_behavior_reason_start_endplay        3\n",
              "22     hist_user_behavior_reason_start_playbtn        4\n",
              "25  hist_user_behavior_reason_start_trackerror        5\n",
              "27      hist_user_behavior_reason_end_clickrow        6"
            ]
          },
          "metadata": {
            "tags": []
          },
          "execution_count": 117
        }
      ]
    },
    {
      "cell_type": "code",
      "metadata": {
        "id": "PlHYPFPieFY0"
      },
      "source": [
        "X_important_train = boruta_selector.transform(np.array(X_train))\n",
        "X_important_val = boruta_selector.transform(np.array(X_val))\n",
        "X_important_test = boruta_selector.transform(np.array(X_test))"
      ],
      "execution_count": 118,
      "outputs": []
    },
    {
      "cell_type": "markdown",
      "metadata": {
        "id": "DSkCf8HQzTqn"
      },
      "source": [
        "### Creating model selected by boruta"
      ]
    },
    {
      "cell_type": "code",
      "metadata": {
        "colab": {
          "base_uri": "https://localhost:8080/"
        },
        "id": "mzvjR7gIeFbJ",
        "outputId": "6de5e175-0611-4249-d274-14786a54d16e"
      },
      "source": [
        "rf_important = RandomForestClassifier(random_state=1, n_estimators=100, n_jobs = -1)\n",
        "rf_important.fit(X_important_train, y_train)"
      ],
      "execution_count": 120,
      "outputs": [
        {
          "output_type": "execute_result",
          "data": {
            "text/plain": [
              "RandomForestClassifier(bootstrap=True, ccp_alpha=0.0, class_weight=None,\n",
              "                       criterion='gini', max_depth=None, max_features='auto',\n",
              "                       max_leaf_nodes=None, max_samples=None,\n",
              "                       min_impurity_decrease=0.0, min_impurity_split=None,\n",
              "                       min_samples_leaf=1, min_samples_split=2,\n",
              "                       min_weight_fraction_leaf=0.0, n_estimators=100,\n",
              "                       n_jobs=-1, oob_score=False, random_state=1, verbose=0,\n",
              "                       warm_start=False)"
            ]
          },
          "metadata": {
            "tags": []
          },
          "execution_count": 120
        }
      ]
    },
    {
      "cell_type": "code",
      "metadata": {
        "colab": {
          "base_uri": "https://localhost:8080/"
        },
        "id": "yO5T9tFGn82v",
        "outputId": "4c7ffb01-3b81-4633-e528-a7e2d4832cd5"
      },
      "source": [
        "print(\"RFC Train score: %s\" % rf_important.score(X_important_train, y_train))\n",
        "print(\"RFC Val score:   %s\" % rf_important.score(X_important_val, y_val))\n",
        "print(\"RFC Test score:  %s\" % rf_important.score(X_important_test, y_test)) "
      ],
      "execution_count": 121,
      "outputs": [
        {
          "output_type": "stream",
          "text": [
            "RFC Train score: 0.9974050253219303\n",
            "RFC Val score:   0.9893412204581601\n",
            "RFC Test score:  0.9901337083417041\n"
          ],
          "name": "stdout"
        }
      ]
    },
    {
      "cell_type": "markdown",
      "metadata": {
        "id": "9qFdPAMKzTqo"
      },
      "source": [
        "### XG Boost"
      ]
    },
    {
      "cell_type": "code",
      "metadata": {
        "colab": {
          "base_uri": "https://localhost:8080/"
        },
        "id": "IMt1jlJAeFdY",
        "outputId": "40a5286d-a372-4d82-80bc-eca4b581f8ee"
      },
      "source": [
        "xg = xgb.XGBClassifier()\n",
        "xg.fit(X_important_train, y_train,\n",
        "       eval_set=[(X_important_train, y_train),(X_important_val, y_val)],\n",
        "       early_stopping_rounds=10, verbose=True)   "
      ],
      "execution_count": 122,
      "outputs": [
        {
          "output_type": "stream",
          "text": [
            "[0]\tvalidation_0-error:0.009975\tvalidation_1-error:0.011384\n",
            "Multiple eval metrics have been passed: 'validation_1-error' will be used for early stopping.\n",
            "\n",
            "Will train until validation_1-error hasn't improved in 10 rounds.\n",
            "[1]\tvalidation_0-error:0.009864\tvalidation_1-error:0.011496\n",
            "[2]\tvalidation_0-error:0.009864\tvalidation_1-error:0.011496\n",
            "[3]\tvalidation_0-error:0.009864\tvalidation_1-error:0.011496\n",
            "[4]\tvalidation_0-error:0.009773\tvalidation_1-error:0.011384\n",
            "[5]\tvalidation_0-error:0.00978\tvalidation_1-error:0.011384\n",
            "[6]\tvalidation_0-error:0.009731\tvalidation_1-error:0.011356\n",
            "[7]\tvalidation_0-error:0.009766\tvalidation_1-error:0.011356\n",
            "[8]\tvalidation_0-error:0.009766\tvalidation_1-error:0.011356\n",
            "[9]\tvalidation_0-error:0.009794\tvalidation_1-error:0.011077\n",
            "[10]\tvalidation_0-error:0.009808\tvalidation_1-error:0.011077\n",
            "[11]\tvalidation_0-error:0.009808\tvalidation_1-error:0.011077\n",
            "[12]\tvalidation_0-error:0.009808\tvalidation_1-error:0.011077\n",
            "[13]\tvalidation_0-error:0.009808\tvalidation_1-error:0.011077\n",
            "[14]\tvalidation_0-error:0.009808\tvalidation_1-error:0.011077\n",
            "[15]\tvalidation_0-error:0.009857\tvalidation_1-error:0.011133\n",
            "[16]\tvalidation_0-error:0.009857\tvalidation_1-error:0.011133\n",
            "[17]\tvalidation_0-error:0.009857\tvalidation_1-error:0.011133\n",
            "[18]\tvalidation_0-error:0.009857\tvalidation_1-error:0.011133\n",
            "[19]\tvalidation_0-error:0.009857\tvalidation_1-error:0.011133\n",
            "Stopping. Best iteration:\n",
            "[9]\tvalidation_0-error:0.009794\tvalidation_1-error:0.011077\n",
            "\n"
          ],
          "name": "stdout"
        },
        {
          "output_type": "execute_result",
          "data": {
            "text/plain": [
              "XGBClassifier(base_score=0.5, booster='gbtree', colsample_bylevel=1,\n",
              "              colsample_bynode=1, colsample_bytree=1, gamma=0,\n",
              "              learning_rate=0.1, max_delta_step=0, max_depth=3,\n",
              "              min_child_weight=1, missing=None, n_estimators=100, n_jobs=1,\n",
              "              nthread=None, objective='binary:logistic', random_state=0,\n",
              "              reg_alpha=0, reg_lambda=1, scale_pos_weight=1, seed=None,\n",
              "              silent=None, subsample=1, verbosity=1)"
            ]
          },
          "metadata": {
            "tags": []
          },
          "execution_count": 122
        }
      ]
    },
    {
      "cell_type": "code",
      "metadata": {
        "colab": {
          "base_uri": "https://localhost:8080/"
        },
        "id": "2oecJ_-keFge",
        "outputId": "c5705c9b-b520-49f4-c587-74ff90661759"
      },
      "source": [
        "print(\"XGB Train score: %s\" % xg.score(X_important_train,y_train))\n",
        "print(\"XGB Val score:   %s\" % xg.score(X_important_val,y_val))\n",
        "print(\"XGB Test score:  %s\" % xg.score(X_important_test,y_test))"
      ],
      "execution_count": 123,
      "outputs": [
        {
          "output_type": "stream",
          "text": [
            "XGB Train score: 0.9902060633118015\n",
            "XGB Val score:   0.9889226819944753\n",
            "XGB Test score:  0.9891068997075828\n"
          ],
          "name": "stdout"
        }
      ]
    },
    {
      "cell_type": "markdown",
      "metadata": {
        "id": "wWa0XyhfzTqy"
      },
      "source": [
        "### LGBM "
      ]
    },
    {
      "cell_type": "code",
      "metadata": {
        "colab": {
          "base_uri": "https://localhost:8080/"
        },
        "id": "x0l9cG72UAzy",
        "outputId": "6fdcc12c-c3e2-42a3-b1e9-0fee459f1b83"
      },
      "source": [
        "lgbm = LGBMClassifier( ).fit( X_important_train, y_train,\n",
        "       eval_set=[(X_important_train, y_train),(X_important_val, y_val)],\n",
        "       early_stopping_rounds=10, verbose=True)\n",
        "\n",
        "print()\n",
        "print(\"LGBM Train score: %s\" % lgbm.score(X_important_train,y_train))\n",
        "print(\"LGBM Val score:   %s\" % lgbm.score(X_important_val,y_val))\n",
        "print(\"LGBM Test score:  %s\" % lgbm.score(X_important_test,y_test))"
      ],
      "execution_count": 125,
      "outputs": [
        {
          "output_type": "stream",
          "text": [
            "[1]\ttraining's binary_logloss: 0.600908\tvalid_1's binary_logloss: 0.601237\n",
            "Training until validation scores don't improve for 10 rounds.\n",
            "[2]\ttraining's binary_logloss: 0.525632\tvalid_1's binary_logloss: 0.526301\n",
            "[3]\ttraining's binary_logloss: 0.462638\tvalid_1's binary_logloss: 0.463584\n",
            "[4]\ttraining's binary_logloss: 0.409434\tvalid_1's binary_logloss: 0.41064\n",
            "[5]\ttraining's binary_logloss: 0.364231\tvalid_1's binary_logloss: 0.365685\n",
            "[6]\ttraining's binary_logloss: 0.325174\tvalid_1's binary_logloss: 0.32686\n",
            "[7]\ttraining's binary_logloss: 0.291528\tvalid_1's binary_logloss: 0.293457\n",
            "[8]\ttraining's binary_logloss: 0.262072\tvalid_1's binary_logloss: 0.26423\n",
            "[9]\ttraining's binary_logloss: 0.236324\tvalid_1's binary_logloss: 0.238688\n",
            "[10]\ttraining's binary_logloss: 0.21386\tvalid_1's binary_logloss: 0.216426\n",
            "[11]\ttraining's binary_logloss: 0.19395\tvalid_1's binary_logloss: 0.196712\n",
            "[12]\ttraining's binary_logloss: 0.17637\tvalid_1's binary_logloss: 0.179317\n",
            "[13]\ttraining's binary_logloss: 0.160822\tvalid_1's binary_logloss: 0.163949\n",
            "[14]\ttraining's binary_logloss: 0.147141\tvalid_1's binary_logloss: 0.150445\n",
            "[15]\ttraining's binary_logloss: 0.134907\tvalid_1's binary_logloss: 0.138379\n",
            "[16]\ttraining's binary_logloss: 0.124033\tvalid_1's binary_logloss: 0.127673\n",
            "[17]\ttraining's binary_logloss: 0.114369\tvalid_1's binary_logloss: 0.118163\n",
            "[18]\ttraining's binary_logloss: 0.105821\tvalid_1's binary_logloss: 0.109777\n",
            "[19]\ttraining's binary_logloss: 0.0981412\tvalid_1's binary_logloss: 0.102252\n",
            "[20]\ttraining's binary_logloss: 0.0913004\tvalid_1's binary_logloss: 0.0955668\n",
            "[21]\ttraining's binary_logloss: 0.0852035\tvalid_1's binary_logloss: 0.0896173\n",
            "[22]\ttraining's binary_logloss: 0.0798035\tvalid_1's binary_logloss: 0.0843534\n",
            "[23]\ttraining's binary_logloss: 0.0749317\tvalid_1's binary_logloss: 0.0796312\n",
            "[24]\ttraining's binary_logloss: 0.0705937\tvalid_1's binary_logloss: 0.0754424\n",
            "[25]\ttraining's binary_logloss: 0.0667665\tvalid_1's binary_logloss: 0.0717496\n",
            "[26]\ttraining's binary_logloss: 0.063294\tvalid_1's binary_logloss: 0.068363\n",
            "[27]\ttraining's binary_logloss: 0.0601896\tvalid_1's binary_logloss: 0.0653374\n",
            "[28]\ttraining's binary_logloss: 0.0574288\tvalid_1's binary_logloss: 0.0626967\n",
            "[29]\ttraining's binary_logloss: 0.054975\tvalid_1's binary_logloss: 0.0603377\n",
            "[30]\ttraining's binary_logloss: 0.0527851\tvalid_1's binary_logloss: 0.0582511\n",
            "[31]\ttraining's binary_logloss: 0.0508307\tvalid_1's binary_logloss: 0.0563902\n",
            "[32]\ttraining's binary_logloss: 0.0490872\tvalid_1's binary_logloss: 0.0547354\n",
            "[33]\ttraining's binary_logloss: 0.0475272\tvalid_1's binary_logloss: 0.0532706\n",
            "[34]\ttraining's binary_logloss: 0.0461604\tvalid_1's binary_logloss: 0.0519689\n",
            "[35]\ttraining's binary_logloss: 0.0449001\tvalid_1's binary_logloss: 0.0508044\n",
            "[36]\ttraining's binary_logloss: 0.0437842\tvalid_1's binary_logloss: 0.0498099\n",
            "[37]\ttraining's binary_logloss: 0.0428023\tvalid_1's binary_logloss: 0.0489024\n",
            "[38]\ttraining's binary_logloss: 0.0419277\tvalid_1's binary_logloss: 0.0480883\n",
            "[39]\ttraining's binary_logloss: 0.0411456\tvalid_1's binary_logloss: 0.0474126\n",
            "[40]\ttraining's binary_logloss: 0.0404316\tvalid_1's binary_logloss: 0.0467528\n",
            "[41]\ttraining's binary_logloss: 0.0397912\tvalid_1's binary_logloss: 0.0461741\n",
            "[42]\ttraining's binary_logloss: 0.0392158\tvalid_1's binary_logloss: 0.045685\n",
            "[43]\ttraining's binary_logloss: 0.0386884\tvalid_1's binary_logloss: 0.045248\n",
            "[44]\ttraining's binary_logloss: 0.0382336\tvalid_1's binary_logloss: 0.0448812\n",
            "[45]\ttraining's binary_logloss: 0.037801\tvalid_1's binary_logloss: 0.0445338\n",
            "[46]\ttraining's binary_logloss: 0.0374223\tvalid_1's binary_logloss: 0.0442402\n",
            "[47]\ttraining's binary_logloss: 0.0370654\tvalid_1's binary_logloss: 0.0439463\n",
            "[48]\ttraining's binary_logloss: 0.036756\tvalid_1's binary_logloss: 0.0437227\n",
            "[49]\ttraining's binary_logloss: 0.0364789\tvalid_1's binary_logloss: 0.0435254\n",
            "[50]\ttraining's binary_logloss: 0.036228\tvalid_1's binary_logloss: 0.0433342\n",
            "[51]\ttraining's binary_logloss: 0.0360041\tvalid_1's binary_logloss: 0.0431582\n",
            "[52]\ttraining's binary_logloss: 0.0358031\tvalid_1's binary_logloss: 0.0430336\n",
            "[53]\ttraining's binary_logloss: 0.0356191\tvalid_1's binary_logloss: 0.0428826\n",
            "[54]\ttraining's binary_logloss: 0.0354437\tvalid_1's binary_logloss: 0.0427512\n",
            "[55]\ttraining's binary_logloss: 0.0352768\tvalid_1's binary_logloss: 0.0426276\n",
            "[56]\ttraining's binary_logloss: 0.035096\tvalid_1's binary_logloss: 0.0424942\n",
            "[57]\ttraining's binary_logloss: 0.0349344\tvalid_1's binary_logloss: 0.0423885\n",
            "[58]\ttraining's binary_logloss: 0.0348009\tvalid_1's binary_logloss: 0.0422984\n",
            "[59]\ttraining's binary_logloss: 0.0346749\tvalid_1's binary_logloss: 0.0422094\n",
            "[60]\ttraining's binary_logloss: 0.0345671\tvalid_1's binary_logloss: 0.0421337\n",
            "[61]\ttraining's binary_logloss: 0.0344578\tvalid_1's binary_logloss: 0.0420721\n",
            "[62]\ttraining's binary_logloss: 0.0343678\tvalid_1's binary_logloss: 0.0420235\n",
            "[63]\ttraining's binary_logloss: 0.0342513\tvalid_1's binary_logloss: 0.041926\n",
            "[64]\ttraining's binary_logloss: 0.034154\tvalid_1's binary_logloss: 0.0418599\n",
            "[65]\ttraining's binary_logloss: 0.0340675\tvalid_1's binary_logloss: 0.0418137\n",
            "[66]\ttraining's binary_logloss: 0.0339388\tvalid_1's binary_logloss: 0.0417865\n",
            "[67]\ttraining's binary_logloss: 0.0338403\tvalid_1's binary_logloss: 0.0417926\n",
            "[68]\ttraining's binary_logloss: 0.0337685\tvalid_1's binary_logloss: 0.0417735\n",
            "[69]\ttraining's binary_logloss: 0.0339413\tvalid_1's binary_logloss: 0.0421358\n",
            "[70]\ttraining's binary_logloss: 0.0338237\tvalid_1's binary_logloss: 0.0420545\n",
            "[71]\ttraining's binary_logloss: 0.0337139\tvalid_1's binary_logloss: 0.0420102\n",
            "[72]\ttraining's binary_logloss: 0.0336236\tvalid_1's binary_logloss: 0.0419686\n",
            "[73]\ttraining's binary_logloss: 0.0335426\tvalid_1's binary_logloss: 0.041907\n",
            "[74]\ttraining's binary_logloss: 0.0337559\tvalid_1's binary_logloss: 0.0423708\n",
            "[75]\ttraining's binary_logloss: 0.0335787\tvalid_1's binary_logloss: 0.0421893\n",
            "[76]\ttraining's binary_logloss: 0.0341118\tvalid_1's binary_logloss: 0.0427528\n",
            "[77]\ttraining's binary_logloss: 0.0334303\tvalid_1's binary_logloss: 0.0421348\n",
            "[78]\ttraining's binary_logloss: 0.033325\tvalid_1's binary_logloss: 0.0420759\n",
            "Early stopping, best iteration is:\n",
            "[68]\ttraining's binary_logloss: 0.0337685\tvalid_1's binary_logloss: 0.0417735\n",
            "\n",
            "LGBM Train score: 0.9927103533909064\n",
            "LGBM Val score:   0.9905689332849689\n",
            "LGBM Test score:  0.9912051608294828\n"
          ],
          "name": "stdout"
        }
      ]
    },
    {
      "cell_type": "code",
      "metadata": {
        "id": "1BaXcjrzzTqz"
      },
      "source": [
        "y_pred = lgbm.predict(X_important_test)"
      ],
      "execution_count": 127,
      "outputs": []
    },
    {
      "cell_type": "code",
      "metadata": {
        "colab": {
          "base_uri": "https://localhost:8080/",
          "height": 435
        },
        "id": "NwBdgY1IzTqz",
        "outputId": "02996017-446e-4bd1-87d4-2ac4395820e1"
      },
      "source": [
        "# draw classification report and confusion matrix  for LGBM MODEL (BASE MODEL)\n",
        "from sklearn.metrics import classification_report, confusion_matrix\n",
        "\n",
        "print(classification_report(y_test, y_pred))\n",
        "cf = confusion_matrix(y_test, y_pred)\n",
        "sns.heatmap(cf, annot=True)"
      ],
      "execution_count": 129,
      "outputs": [
        {
          "output_type": "stream",
          "text": [
            "              precision    recall  f1-score   support\n",
            "\n",
            "           0       0.99      1.00      0.99     22340\n",
            "           1       1.00      0.99      0.99     22459\n",
            "\n",
            "    accuracy                           0.99     44799\n",
            "   macro avg       0.99      0.99      0.99     44799\n",
            "weighted avg       0.99      0.99      0.99     44799\n",
            "\n"
          ],
          "name": "stdout"
        },
        {
          "output_type": "execute_result",
          "data": {
            "text/plain": [
              "<matplotlib.axes._subplots.AxesSubplot at 0x7f4358c55780>"
            ]
          },
          "metadata": {
            "tags": []
          },
          "execution_count": 129
        },
        {
          "output_type": "display_data",
          "data": {
            "image/png": "[encoded data removed]",
            "text/plain": [
              "<Figure size 432x288 with 2 Axes>"
            ]
          },
          "metadata": {
            "tags": [],
            "needs_background": "light"
          }
        }
      ]
    },
    {
      "cell_type": "code",
      "metadata": {
        "id": "3tz9CE-KmKda"
      },
      "source": [
        "import pickle\n",
        "pickle.dump(lgbm, open(\"/content/drive/MyDrive/Spotify/data/llbm.pkl\", 'wb'))\n",
        "pickle.dump(xg, open(\"/content/drive/MyDrive/Spotify/data/xgb.pkl\", 'wb'))\n",
        "pickle.dump(rf_important, open(\"/content/drive/MyDrive/Spotify/data/rf.pkl\", 'wb'))"
      ],
      "execution_count": 130,
      "outputs": []
    }
  ]
}